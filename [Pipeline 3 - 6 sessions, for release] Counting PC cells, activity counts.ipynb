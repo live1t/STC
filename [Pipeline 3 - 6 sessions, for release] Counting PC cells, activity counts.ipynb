{
 "cells": [
  {
   "cell_type": "code",
   "execution_count": null,
   "id": "117b7ac3",
   "metadata": {},
   "outputs": [],
   "source": [
    "#This program counts cell activity per session, and combines it with PC identification"
   ]
  },
  {
   "cell_type": "code",
   "execution_count": null,
   "id": "caf9f349",
   "metadata": {},
   "outputs": [],
   "source": [
    "#import libraries\n",
    "import pandas as pd\n",
    "import glob\n",
    "import os\n",
    "import numpy as np\n",
    "from scipy import signal\n",
    "import math\n",
    "\n",
    "#define path names and read in files\n",
    "path = r'/Users/insert_folder_path_here' # use your path\n",
    "all_files = glob.glob(os.path.join(path, \"*.csv\"))  \n",
    "event1 = pd.read_csv(r'/Users/file_path_for_session_1_interpolated_data.csv')\n",
    "event2 = pd.read_csv(r'/Users/file_path_for_session_2_interpolated_data.csv')\n",
    "event3 = pd.read_csv(r'/Users/file_path_for_session_3_interpolated_data.csv')\n",
    "event4 = pd.read_csv(r'/Users/file_path_for_session_4_interpolated_data.csv')\n",
    "event5 = pd.read_csv(r'/Users/file_path_for_session_5_interpolated_data.csv')\n",
    "event6 = pd.read_csv(r'/Users/file_path_for_session_6_interpolated_data.csv')\n",
    "testName = 'Insert_Mouse_ID_here'\n",
    "\n",
    "output_dir = path + r'/processed'\n",
    "if not os.path.exists(output_dir):\n",
    "    os.makedirs(output_dir)\n"
   ]
  },
  {
   "cell_type": "code",
   "execution_count": null,
   "id": "259d7798",
   "metadata": {},
   "outputs": [],
   "source": [
    "#To print every row, if needed\n",
    "#pd.set_option('display.max_rows', None)\n",
    "\n",
    "#define number of cells detected (just set to number greater than number of cells)\n",
    "N_cells=700\n",
    "#defines whether the data is pruned to remove the times the mouse doesn't move (1=pruning on, 0=pruning off)\n",
    "pruning =1\n",
    "\n",
    "#defines the threshold for counting events\n",
    "Spike_threshold=5\n",
    "\n",
    "#defines the threshold velocity for pruning\n",
    "#if the velocity os below this, it is pruned when pruning = True\n",
    "speed_velocity = 1\n",
    "Threshold_velocity=0.01\n",
    "#defines the threshold velocity for pruning \n",
    "#If using n% of average speed,\n",
    "average_speed = 0\n",
    "speed_fraction=0.1\n",
    "\n",
    "#define timestep size\n",
    "Delta_time=0.049962\n"
   ]
  },
  {
   "cell_type": "code",
   "execution_count": null,
   "id": "09c5f9c5",
   "metadata": {},
   "outputs": [],
   "source": [
    "#define velocity pruning function \n",
    "#prunes data with velocity less than threshold velocity from the input data\n",
    "#prunes spikes with an amplitude less than spike threshold\n",
    "if speed_velocity==1:\n",
    "    def prune (df):\n",
    "        #prune non-moving times\n",
    "        pruned_velocity=df.drop(df[df.Speed < Threshold_velocity].index).reset_index(drop=True)\n",
    "        #set spikes with size less than a threshold to zero  \n",
    "        cell_data_only=pruned_velocity.iloc[:,5:N_cells+5] #get cell data only\n",
    "        behavioural_data_only=pruned_velocity.iloc[:,0:5] #get behavioural data only\n",
    "        cell_data_only=cell_data_only.mask(cell_data_only<Spike_threshold, 0) #mask cell data\n",
    "        pruned_data=pd.concat([behavioural_data_only, cell_data_only], axis = 1) #recombine\n",
    "        \n",
    "        return(pruned_data)"
   ]
  },
  {
   "cell_type": "code",
   "execution_count": null,
   "id": "88d6393e",
   "metadata": {},
   "outputs": [],
   "source": [
    "#define velocity pruning function by using average speed \n",
    "#prunes data with velocity less than threshold velocity from the input data\n",
    "#prunes spikes with an amplitude less than spike threshold\n",
    "if average_speed==1:\n",
    "    def prune (df):\n",
    "        average_speed= df['Speed'].mean()\n",
    "        thresh_speed=average_speed*speed_fraction\n",
    "        pruned_velocity=df.drop(df[df.Speed < thresh_speed].index).reset_index(drop=True)\n",
    "        #set spikes with size less than a threshold to zero  \n",
    "        cell_data_only=pruned_velocity.iloc[:,5:N_cells+5] #get cell data only\n",
    "        behavioural_data_only=pruned_velocity.iloc[:,0:5] #get behavioural data only\n",
    "        cell_data_only=cell_data_only.mask(cell_data_only<Spike_threshold, 0) #mask cell data\n",
    "        pruned_data=pd.concat([behavioural_data_only, cell_data_only], axis = 1) #recombine\n",
    "        \n",
    "        return(pruned_data)"
   ]
  },
  {
   "cell_type": "markdown",
   "id": "51f75fa7",
   "metadata": {},
   "source": [
    "## Activation check starts here"
   ]
  },
  {
   "cell_type": "code",
   "execution_count": null,
   "id": "ad3d0aba",
   "metadata": {},
   "outputs": [],
   "source": [
    "#clean column names\n",
    "event1.columns = [c.replace(' ', '') for c in event1.columns]\n",
    "event2.columns = [c.replace(' ', '') for c in event2.columns]\n",
    "event3.columns = [c.replace(' ', '') for c in event3.columns]\n",
    "event4.columns = [c.replace(' ', '') for c in event4.columns]\n",
    "event5.columns = [c.replace(' ', '') for c in event5.columns]\n",
    "event6.columns = [c.replace(' ', '') for c in event6.columns]"
   ]
  },
  {
   "cell_type": "code",
   "execution_count": null,
   "id": "e51d7ed8",
   "metadata": {},
   "outputs": [],
   "source": [
    "#read in the combined Ca imaging and behavioural data for one session, delete intermediate data, rename speed column\n",
    "event1=event1.drop(['Unnamed:0','Interpolatedspeed', 'x-velocity','y-velocity'], axis=1)\n",
    "event1=event1.rename({'Calculatedspeed': 'Speed'}, axis=1)\n",
    "event2=event2.drop(['Unnamed:0','Interpolatedspeed', 'x-velocity','y-velocity'], axis=1)\n",
    "event2=event2.rename({'Calculatedspeed': 'Speed'}, axis=1)\n",
    "event3=event3.drop(['Unnamed:0','Interpolatedspeed', 'x-velocity','y-velocity'], axis=1)\n",
    "event3=event3.rename({'Calculatedspeed': 'Speed'}, axis=1)\n",
    "event4=event4.drop(['Unnamed:0','Interpolatedspeed', 'x-velocity','y-velocity'], axis=1)\n",
    "event4=event4.rename({'Calculatedspeed': 'Speed'}, axis=1)\n",
    "event5=event5.drop(['Unnamed:0','Interpolatedspeed', 'x-velocity','y-velocity'], axis=1)\n",
    "event5=event5.rename({'Calculatedspeed': 'Speed'}, axis=1)\n",
    "event6=event6.drop(['Unnamed:0','Interpolatedspeed', 'x-velocity','y-velocity'], axis=1)\n",
    "event6=event6.rename({'Calculatedspeed': 'Speed'}, axis=1)\n",
    "event1"
   ]
  },
  {
   "cell_type": "code",
   "execution_count": null,
   "id": "3fa0d82b",
   "metadata": {},
   "outputs": [],
   "source": [
    "#prune data\n",
    "if pruning==1:\n",
    "    event1=prune(event1)\n",
    "    event2=prune(event2)\n",
    "    event3=prune(event3)\n",
    "    event4=prune(event4)\n",
    "    event5=prune(event5)\n",
    "    event6=prune(event6)    \n",
    "event1"
   ]
  },
  {
   "cell_type": "code",
   "execution_count": null,
   "id": "b2701b5c",
   "metadata": {},
   "outputs": [],
   "source": [
    "event1 = event1.drop(event1.columns[0:5], axis=1)\n",
    "event2 = event2.drop(event2.columns[0:5], axis=1)\n",
    "event3 = event3.drop(event3.columns[0:5], axis=1)\n",
    "event4 = event4.drop(event4.columns[0:5], axis=1)\n",
    "event5 = event5.drop(event5.columns[0:5], axis=1)\n",
    "event6 = event6.drop(event6.columns[0:5], axis=1)\n",
    "event1"
   ]
  },
  {
   "cell_type": "code",
   "execution_count": null,
   "id": "e718d13c",
   "metadata": {},
   "outputs": [],
   "source": [
    "#count total cell actiations in each session\n",
    "Session1 = event1[event1 > Spike_threshold].count(axis=0)\n",
    "#Session2 = pd.Dataframe(Session1)\n",
    "Session2 = event2[event2 > Spike_threshold].count(axis=0)\n",
    "#Session3 = pd.Dataframe(Session1)\n",
    "Session3 = event3[event3 > Spike_threshold].count(axis=0)\n",
    "#Session4 = pd.Dataframe(Session1)\n",
    "Session4 = event4[event4 > Spike_threshold].count(axis=0)\n",
    "#Session5 = pd.Dataframe(Session1)\n",
    "Session5 = event5[event5 > Spike_threshold].count(axis=0)\n",
    "#Session6 = pd.Dataframe(Session1)\n",
    "Session6 = event6[event6 > Spike_threshold].count(axis=0)\n",
    "\n",
    "AcrossSessions = pd.concat([Session1, Session2, Session3, Session4, Session5, Session6], axis=1)\n",
    "AcrossSessions = AcrossSessions.rename(columns={0: 'Session1', 1: 'Session2', 2: 'Session3', 3: 'Session4', 4: 'Session5', 5: 'Session6'})\n",
    "AcrossSessions.index.name = 'ID'\n",
    "AcrossSessions.reset_index(inplace=True)\n",
    "AcrossSessions = pd.DataFrame(AcrossSessions)\n",
    "AcrossSessions"
   ]
  },
  {
   "cell_type": "markdown",
   "id": "0c3f97f7",
   "metadata": {},
   "source": [
    "## From here, check PC identification across 6 sessions"
   ]
  },
  {
   "cell_type": "code",
   "execution_count": null,
   "id": "3c7043c9",
   "metadata": {},
   "outputs": [],
   "source": [
    "#read in place cell identification data and combine\n",
    "df_from_each_file = (pd.read_csv(f) for f in all_files)\n",
    "\n",
    "concatenated_df   = pd.concat(df_from_each_file, axis=1, ignore_index=True) #dropping index as it was causing a problem to reasign the index...\n",
    "concatenated_df"
   ]
  },
  {
   "cell_type": "code",
   "execution_count": null,
   "id": "d087a16e",
   "metadata": {},
   "outputs": [],
   "source": [
    "#rearrange place cell identification data\n",
    "df = concatenated_df.iloc[:, [0,3,7,11,15, 19, 23]]\n",
    "df = df.set_axis(['cellID', 'PlaceCellS1', 'PlaceCellS2', 'PlaceCellS3', 'PlaceCellS4', 'PlaceCellS5', 'PlaceCellS6'], axis=1)\n",
    "df"
   ]
  },
  {
   "cell_type": "code",
   "execution_count": null,
   "id": "e3254f30",
   "metadata": {},
   "outputs": [],
   "source": [
    "#combine place cell identiciation data and cell activity count\n",
    "df_all = pd.concat([df, AcrossSessions], axis=1)\n",
    "df_all = df_all.drop(['ID'],axis=1)\n",
    "df_all"
   ]
  },
  {
   "cell_type": "code",
   "execution_count": null,
   "id": "135ac9e6",
   "metadata": {},
   "outputs": [],
   "source": [
    "#write data to file\n",
    "df_all.to_csv(f'{output_dir}/{testName}_eventcount&PC_raw(spike5).csv', index=True)\n",
    "\n",
    "df_all"
   ]
  },
  {
   "cell_type": "code",
   "execution_count": null,
   "id": "566226bb",
   "metadata": {},
   "outputs": [],
   "source": []
  }
 ],
 "metadata": {
  "kernelspec": {
   "display_name": "Python 3 (ipykernel)",
   "language": "python",
   "name": "python3"
  },
  "language_info": {
   "codemirror_mode": {
    "name": "ipython",
    "version": 3
   },
   "file_extension": ".py",
   "mimetype": "text/x-python",
   "name": "python",
   "nbconvert_exporter": "python",
   "pygments_lexer": "ipython3",
   "version": "3.9.7"
  }
 },
 "nbformat": 4,
 "nbformat_minor": 5
}
