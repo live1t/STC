{
 "cells": [
  {
   "cell_type": "code",
   "execution_count": null,
   "id": "b9334bc4",
   "metadata": {
    "ExecuteTime": {
     "end_time": "2022-05-03T09:16:51.352060Z",
     "start_time": "2022-05-03T09:16:51.341053Z"
    }
   },
   "outputs": [],
   "source": [
    "#This program takes as input the combined Ca imaging and behavioural data for each session for a mouse\n",
    "#It determines whether a cell is a place cell or not based on a spatial information comparison to shuffled data"
   ]
  },
  {
   "cell_type": "code",
   "execution_count": null,
   "id": "45e2979f",
   "metadata": {
    "ExecuteTime": {
     "end_time": "2022-05-03T09:17:05.400336Z",
     "start_time": "2022-05-03T09:17:04.901045Z"
    }
   },
   "outputs": [],
   "source": [
    "#importing libraries\n",
    "import pandas as pd\n",
    "import numpy as np\n",
    "import os\n",
    "import math"
   ]
  },
  {
   "cell_type": "code",
   "execution_count": null,
   "id": "d7414ed3",
   "metadata": {
    "ExecuteTime": {
     "end_time": "2022-05-03T09:17:05.963110Z",
     "start_time": "2022-05-03T09:17:05.957104Z"
    }
   },
   "outputs": [],
   "source": [
    "#import the dataset\n",
    "#this is the location of the csv file of the combined Ca imaging and behavioural data for the session\n",
    "path='/Users/insert_file_path_here'\n",
    "Ca_data='session_1_filename_here.csv' #session 1\n",
    "Ca_data2='session_2_filename_here.csv' #session 2\n",
    "Ca_data3='session_3_filename_here.csv' #session 3\n",
    "Ca_data4='session_4_filename_here.csv' #session 4\n",
    "#session6 = 1\n",
    "#Ca_data5='session_5_filename_here.csv' #session 5\n",
    "#Ca_data6='session_6_filename_here.csv' #session 6\n",
    "\n",
    "#ouput file name\n",
    "newpath = path + r'/insert_output_filename_here' \n",
    "if not os.path.exists(newpath):\n",
    "    os.makedirs(newpath)\n",
    "testName = 'nsert_mouse_ID_here'"
   ]
  },
  {
   "cell_type": "code",
   "execution_count": null,
   "id": "f44ce126",
   "metadata": {
    "ExecuteTime": {
     "end_time": "2022-05-03T09:17:06.549381Z",
     "start_time": "2022-05-03T09:17:06.541374Z"
    }
   },
   "outputs": [],
   "source": [
    "#define variables and file locations\n",
    "\n",
    "#defines the number of shuffles used when deterining significance\n",
    "No_shuffles=2000\n",
    "\n",
    "#define timestep size\n",
    "Delta_time=0.049962\n",
    "\n",
    "#define number of bins/gridcells\n",
    "Gridcells_x=16\n",
    "Gridcells_y=16\n",
    "N_bins=Gridcells_x*Gridcells_y\n",
    "\n",
    "#defines whether the data is pruned to remove the times the mouse doesn't move (1=pruning on, 0=pruning off)\n",
    "pruning =1\n",
    "\n",
    "#defines the threshold for counting events\n",
    "Spike_threshold=5\n",
    "\n",
    "#defines the threshold velocity for pruning \n",
    "#if the velocity is below this, it is pruned when pruning is on\n",
    "speed_velocity = 1\n",
    "Threshold_velocity=0.01\n",
    "#defines the threshold velocity for pruning \n",
    "#if using n% of average speed,\n",
    "average_speed = 0\n",
    "speed_fraction=0.1\n",
    "\n",
    "#threshold time in grid square (set to zero when speed thresholding is used)\n",
    "#if the time in a grid square is below this, the activity in the grid square is zeroed \n",
    "threshold_time=0\n",
    "\n",
    "#spatial info threshold % (must be in top % of this for significance)\n",
    "Spat_inf_thresh=1\n"
   ]
  },
  {
   "cell_type": "markdown",
   "id": "e33b40f9",
   "metadata": {
    "ExecuteTime": {
     "end_time": "2022-02-20T22:00:50.557678Z",
     "start_time": "2022-02-20T22:00:50.544162Z"
    }
   },
   "source": [
    "Function definitions begin here"
   ]
  },
  {
   "cell_type": "code",
   "execution_count": null,
   "id": "a2ee88ef",
   "metadata": {
    "ExecuteTime": {
     "end_time": "2022-05-03T09:17:07.633049Z",
     "start_time": "2022-05-03T09:17:07.613033Z"
    }
   },
   "outputs": [],
   "source": [
    "#define spatial information function. \n",
    "#Takes as input an activity map (plus a column for duration per bin) and outputs the spatial information per cell\n",
    "def spatial_info (df):\n",
    "\n",
    "    total_time = df['Duration'].sum()\n",
    "    bin_probability = df['Duration']/total_time\n",
    "    total_events=df.drop(['Duration'], axis=1).sum()\n",
    "    average_event_rate=total_events/total_time\n",
    "    cell_activity=df.drop(['Duration'], axis=1)\n",
    "\n",
    "    event_rate_per_bin=cell_activity.div(df['Duration'], axis=0).fillna(0)\n",
    "    \n",
    "    log_event_rate_per_bin = np.log2(event_rate_per_bin/average_event_rate).replace(-np.inf, 0)\n",
    "    spatial_info_sum_term_two = (event_rate_per_bin/average_event_rate)\n",
    "    product=log_event_rate_per_bin*spatial_info_sum_term_two\n",
    "    result = product.mul(bin_probability, axis=0)\n",
    "    spatial_info_result=result.sum()\n",
    "    \n",
    "    return spatial_info_result\n"
   ]
  },
  {
   "cell_type": "code",
   "execution_count": null,
   "id": "6c7b1f5e",
   "metadata": {
    "ExecuteTime": {
     "end_time": "2022-05-03T09:17:08.089634Z",
     "start_time": "2022-05-03T09:17:08.077623Z"
    }
   },
   "outputs": [],
   "source": [
    "#defines the activity map function. \n",
    "#Takes as input raw cell and behaioural data, outputs the activity pre bin per cell\n",
    "def activity_map(input_df):\n",
    "    df=input_df.drop(['Time','X center','Y center','Speed'], axis=1)\n",
    "    df=df[df>0].groupby('Grid no.').count()\n",
    "    return(df)"
   ]
  },
  {
   "cell_type": "code",
   "execution_count": null,
   "id": "a3782859",
   "metadata": {
    "ExecuteTime": {
     "end_time": "2022-05-03T09:17:08.574640Z",
     "start_time": "2022-05-03T09:17:08.556623Z"
    }
   },
   "outputs": [],
   "source": [
    "#define shuffling and recombining funtion\n",
    "#takes the cell data as input and outputs a shuffled version (keeps behavioural data in place)\n",
    "def shuffle (df):\n",
    "    cell_data_only=df.iloc[:,5:]#N_cells+5] #get cell data only#\n",
    "    behavioural_data_only=df.iloc[:,0:5] #get behavioural data only\n",
    "    \n",
    "    shuffled_cell_data = cell_data_only.sample(frac=1).reset_index(drop=True)\n",
    "    recombined_data = pd.concat([behavioural_data_only, shuffled_cell_data], axis = 1)\n",
    "    \n",
    "    return(recombined_data)"
   ]
  },
  {
   "cell_type": "code",
   "execution_count": null,
   "id": "53fcd918",
   "metadata": {
    "ExecuteTime": {
     "end_time": "2022-05-03T09:17:09.106629Z",
     "start_time": "2022-05-03T09:17:09.100623Z"
    }
   },
   "outputs": [],
   "source": [
    "#define velocity pruning function \n",
    "#prunes data with velocity less than threshold velocity from the input data\n",
    "#prunes spikes with an amplitude less than spike threshold\n",
    "if speed_velocity==1:\n",
    "    def prune (df):\n",
    "        #prune non-moving times\n",
    "        pruned_velocity=df.drop(df[df.Speed < Threshold_velocity].index).reset_index(drop=True)\n",
    "        #set spikes with size less than a threshold to zero  \n",
    "        cell_data_only=pruned_velocity.iloc[:,5:N_cells+5] #get cell data only\n",
    "        behavioural_data_only=pruned_velocity.iloc[:,0:5] #get behavioural data only\n",
    "        cell_data_only=cell_data_only.mask(cell_data_only<Spike_threshold, 0) #mask cell data\n",
    "        pruned_data=pd.concat([behavioural_data_only, cell_data_only], axis = 1) #recombine\n",
    "        \n",
    "        return(pruned_data)"
   ]
  },
  {
   "cell_type": "code",
   "execution_count": null,
   "id": "81161532",
   "metadata": {
    "ExecuteTime": {
     "end_time": "2022-05-03T09:17:10.473077Z",
     "start_time": "2022-05-03T09:17:10.461069Z"
    }
   },
   "outputs": [],
   "source": [
    "#define velocity pruning function by using average speed \n",
    "#prunes data with velocity less than threshold velocity from the input data\n",
    "#prunes spikes with an amplitude less than spike threshold\n",
    "if average_speed==1:\n",
    "    def prune (df):\n",
    "        average_speed= df['Speed'].mean()\n",
    "        thresh_speed=average_speed*speed_fraction\n",
    "        pruned_velocity=df.drop(df[df.Speed < thresh_speed].index).reset_index(drop=True)\n",
    "        #set spikes with size less than a threshold to zero  \n",
    "        cell_data_only=pruned_velocity.iloc[:,5:N_cells+5] #get cell data only\n",
    "        behavioural_data_only=pruned_velocity.iloc[:,0:5] #get behavioural data only\n",
    "        cell_data_only=cell_data_only.mask(cell_data_only<Spike_threshold, 0) #mask cell data\n",
    "        pruned_data=pd.concat([behavioural_data_only, cell_data_only], axis = 1) #recombine\n",
    "        \n",
    "        return(pruned_data)"
   ]
  },
  {
   "cell_type": "markdown",
   "id": "055a61ff",
   "metadata": {
    "ExecuteTime": {
     "end_time": "2022-02-20T22:00:50.635526Z",
     "start_time": "2022-02-20T22:00:50.620520Z"
    }
   },
   "source": [
    "# Main program begins here: Session 1"
   ]
  },
  {
   "cell_type": "code",
   "execution_count": null,
   "id": "bc9db6ab",
   "metadata": {
    "ExecuteTime": {
     "end_time": "2022-05-02T13:53:51.284840Z",
     "start_time": "2022-05-02T13:53:51.269826Z"
    }
   },
   "outputs": [],
   "source": [
    "#first the spatial information for the cells is calculated"
   ]
  },
  {
   "cell_type": "code",
   "execution_count": null,
   "id": "440af4cc",
   "metadata": {
    "ExecuteTime": {
     "end_time": "2022-05-02T13:53:51.683202Z",
     "start_time": "2022-05-02T13:53:51.285841Z"
    },
    "scrolled": true
   },
   "outputs": [],
   "source": [
    "#read in the combined Ca imaging and behavioural data for one session, delete intermdiate data, rename speed column\n",
    "\n",
    "interpolated_data_for_session=pd.read_csv(os.path.join(path, Ca_data))\n",
    "interpolated_data_for_session=interpolated_data_for_session.drop(['Unnamed: 0','Interpolated speed', 'x-velocity','y-velocity'], axis=1)\n",
    "interpolated_data_for_session=interpolated_data_for_session.rename({'Calculated speed': 'Speed'}, axis=1)\n",
    "interpolated_data_for_session"
   ]
  },
  {
   "cell_type": "code",
   "execution_count": null,
   "id": "f87e18c6",
   "metadata": {
    "ExecuteTime": {
     "end_time": "2022-05-02T13:53:51.795304Z",
     "start_time": "2022-05-02T13:53:51.780291Z"
    }
   },
   "outputs": [],
   "source": [
    "#determine the total number of cells detected\n",
    "N_cells=len(interpolated_data_for_session.columns)-5\n",
    "N_cells"
   ]
  },
  {
   "cell_type": "code",
   "execution_count": null,
   "id": "4421e04d",
   "metadata": {
    "ExecuteTime": {
     "end_time": "2022-05-02T13:53:51.779290Z",
     "start_time": "2022-05-02T13:53:51.684204Z"
    }
   },
   "outputs": [],
   "source": [
    "#prune data\n",
    "if pruning==1:\n",
    "    interpolated_data_for_session=prune(interpolated_data_for_session)\n",
    "interpolated_data_for_session    "
   ]
  },
  {
   "cell_type": "code",
   "execution_count": null,
   "id": "c0f7f852",
   "metadata": {
    "ExecuteTime": {
     "end_time": "2022-05-02T13:53:51.811319Z",
     "start_time": "2022-05-02T13:53:51.796306Z"
    }
   },
   "outputs": [],
   "source": [
    "#prune negative gridcell error \n",
    "#interpolated_data_for_session=interpolated_data_for_session.drop(interpolated_data_for_session[interpolated_data_for_session['Grid no.'] < 0].index).reset_index(drop=True)"
   ]
  },
  {
   "cell_type": "code",
   "execution_count": null,
   "id": "83c93a21",
   "metadata": {
    "ExecuteTime": {
     "end_time": "2022-05-02T13:53:51.827333Z",
     "start_time": "2022-05-02T13:53:51.812320Z"
    }
   },
   "outputs": [],
   "source": [
    "#calculate the overall occupancy per bin\n",
    "occupancy_time = pd.DataFrame(np.bincount(interpolated_data_for_session['Grid no.'], minlength = 257),columns = ['Freq visit'] )\n",
    "occupancy_time['Duration'] = occupancy_time*Delta_time\n",
    "occupancy_time=occupancy_time.drop([0])\n",
    "occupancy_time=occupancy_time.drop(['Freq visit'], axis=1)\n",
    "total_time = occupancy_time['Duration'].sum()\n",
    "bin_probability = occupancy_time['Duration'].div(total_time)\n",
    "\n",
    "occupancy_time"
   ]
  },
  {
   "cell_type": "code",
   "execution_count": null,
   "id": "4f90fb76",
   "metadata": {
    "ExecuteTime": {
     "end_time": "2022-05-02T13:53:51.907407Z",
     "start_time": "2022-05-02T13:53:51.828334Z"
    }
   },
   "outputs": [],
   "source": [
    "#calculate activity map\n",
    "cell_activations_per_bin=activity_map(interpolated_data_for_session)\n",
    "#true_bin_data=pd.concat([occupancy_time, cell_activations_per_bin], axis=1).fillna(0)\n",
    "\n",
    "cell_activations_per_bin"
   ]
  },
  {
   "cell_type": "code",
   "execution_count": null,
   "id": "740a4e6b",
   "metadata": {
    "ExecuteTime": {
     "end_time": "2022-05-02T13:53:52.227699Z",
     "start_time": "2022-05-02T13:53:51.908407Z"
    }
   },
   "outputs": [],
   "source": [
    "#zero rows with occupancy numbers less than threshold\n",
    "n=0\n",
    "limit=len(cell_activations_per_bin.index)\n",
    "\n",
    "for i in range (0, limit):\n",
    "    if occupancy_time.iloc[i,0]<threshold_time:\n",
    "        n=n+1\n",
    "        for j in range (0, N_cells):\n",
    "            cell_activations_per_bin.iloc[i,j]=0\n",
    "\n",
    "print(n)\n"
   ]
  },
  {
   "cell_type": "code",
   "execution_count": null,
   "id": "f6827e52",
   "metadata": {
    "ExecuteTime": {
     "end_time": "2022-05-02T13:53:52.243714Z",
     "start_time": "2022-05-02T13:53:52.228700Z"
    }
   },
   "outputs": [],
   "source": [
    "#check the activity maps for each cell\n",
    "cell_activations_per_bin"
   ]
  },
  {
   "cell_type": "code",
   "execution_count": null,
   "id": "3a7b20c7",
   "metadata": {
    "ExecuteTime": {
     "end_time": "2022-05-02T13:53:52.259727Z",
     "start_time": "2022-05-02T13:53:52.244714Z"
    }
   },
   "outputs": [],
   "source": [
    "#combines activity map with duration data for each bin\n",
    "true_bin_data=pd.concat([occupancy_time, cell_activations_per_bin], axis=1).fillna(0)\n",
    "true_bin_data"
   ]
  },
  {
   "cell_type": "code",
   "execution_count": null,
   "id": "46d6a431",
   "metadata": {
    "ExecuteTime": {
     "end_time": "2022-05-02T13:53:52.275742Z",
     "start_time": "2022-05-02T13:53:52.260728Z"
    }
   },
   "outputs": [],
   "source": [
    "#calculate the true spatial infomation for the cells\n",
    "true_spatial_information=spatial_info(true_bin_data)\n",
    "true_spatial_information"
   ]
  },
  {
   "cell_type": "code",
   "execution_count": null,
   "id": "49664e6b",
   "metadata": {
    "ExecuteTime": {
     "end_time": "2022-05-02T13:53:52.451902Z",
     "start_time": "2022-05-02T13:53:52.276743Z"
    }
   },
   "outputs": [],
   "source": [
    "#Next, the spatial information for the shuffles is calculated\n",
    "\n",
    "#this one is a test\n",
    "shuffled_raw_data=shuffle(interpolated_data_for_session)\n",
    "if pruning==1:\n",
    "    shuffled_raw_data=prune(shuffled_raw_data)\n",
    "shuffled_activations_per_bin=activity_map(shuffled_raw_data)\n",
    "shuffled_bin_data=pd.concat([occupancy_time, shuffled_activations_per_bin], axis=1).fillna(0)\n",
    "shuffled_spatial_information=spatial_info(shuffled_bin_data)\n",
    "\n",
    "shuffled_spatial_information_df=shuffled_spatial_information\n",
    "\n",
    "shuffled_spatial_information_df"
   ]
  },
  {
   "cell_type": "code",
   "execution_count": null,
   "id": "55f6c72e",
   "metadata": {
    "ExecuteTime": {
     "end_time": "2022-05-02T14:01:42.104172Z",
     "start_time": "2022-05-02T13:53:52.452903Z"
    }
   },
   "outputs": [],
   "source": [
    "#calculate the spatial information for many shuffles of the data\n",
    "for i in range (No_shuffles):\n",
    "    shuffled_raw_data=shuffle(interpolated_data_for_session)\n",
    "    if pruning==1:\n",
    "        shuffled_raw_data=prune(shuffled_raw_data)\n",
    "    shuffled_activations_per_bin=activity_map(shuffled_raw_data)\n",
    "    shuffled_bin_data=pd.concat([occupancy_time, shuffled_activations_per_bin], axis=1).fillna(0)\n",
    "    shuffled_spatial_information=spatial_info(shuffled_bin_data)\n",
    "    \n",
    "    shuffled_spatial_information_df=pd.concat([shuffled_spatial_information_df, shuffled_spatial_information], axis=1)\n",
    "\n",
    "#check output of shuffles makes sense\n",
    "shuffled_spatial_information_df"
   ]
  },
  {
   "cell_type": "code",
   "execution_count": null,
   "id": "43c2a039",
   "metadata": {
    "ExecuteTime": {
     "end_time": "2022-05-02T14:01:42.216271Z",
     "start_time": "2022-05-02T14:01:42.109174Z"
    }
   },
   "outputs": [],
   "source": [
    "#sort shuffles in order\n",
    "shuffled_spatial_information_df.values.sort()\n",
    "\n",
    "#check sorted shuffles\n",
    "shuffled_spatial_information_df"
   ]
  },
  {
   "cell_type": "code",
   "execution_count": null,
   "id": "6252b625",
   "metadata": {
    "ExecuteTime": {
     "end_time": "2022-05-02T14:01:42.232287Z",
     "start_time": "2022-05-02T14:01:42.221276Z"
    }
   },
   "outputs": [],
   "source": [
    "#what is the n% top value for each cell?\n",
    "special_index=np.floor(No_shuffles*(100-Spat_inf_thresh)/100)\n",
    "special_index=int(special_index)\n",
    "spatial_info_value_to_beat=shuffled_spatial_information_df.iloc[:,special_index]\n",
    "\n",
    "#check values\n",
    "spatial_info_value_to_beat"
   ]
  },
  {
   "cell_type": "code",
   "execution_count": null,
   "id": "51093bac",
   "metadata": {
    "ExecuteTime": {
     "end_time": "2022-05-02T14:01:42.248302Z",
     "start_time": "2022-05-02T14:01:42.234289Z"
    }
   },
   "outputs": [],
   "source": [
    "#calculate difference between spatial info and the top n% value\n",
    "spatial_analysis=pd.concat([true_spatial_information.rename('Spatial info'), spatial_info_value_to_beat.rename('Shuffled spatial info')], axis=1)\n",
    "spatial_analysis['Difference']=spatial_analysis['Spatial info']-spatial_analysis['Shuffled spatial info']\n",
    "spatial_analysis"
   ]
  },
  {
   "cell_type": "code",
   "execution_count": null,
   "id": "bd3e8d3d",
   "metadata": {
    "ExecuteTime": {
     "end_time": "2022-05-02T14:01:42.264318Z",
     "start_time": "2022-05-02T14:01:42.249302Z"
    }
   },
   "outputs": [],
   "source": [
    "Eventcount_threthold = total_time#/60#EventCount_Threthold\n",
    "Eventcount_threthold"
   ]
  },
  {
   "cell_type": "code",
   "execution_count": null,
   "id": "9e2fe982",
   "metadata": {
    "ExecuteTime": {
     "end_time": "2022-05-02T14:01:42.280331Z",
     "start_time": "2022-05-02T14:01:42.266317Z"
    }
   },
   "outputs": [],
   "source": [
    "#Defines cells as a place cell if the spatial information is higher than most of the shuffles\n",
    "\n",
    "def place_cell (row):\n",
    "    if row['Difference']>0:\n",
    "        return 'Place cell'\n",
    "    else:\n",
    "        return 'Not place cell'"
   ]
  },
  {
   "cell_type": "code",
   "execution_count": null,
   "id": "9aa10f45",
   "metadata": {
    "ExecuteTime": {
     "end_time": "2022-05-02T14:01:42.311359Z",
     "start_time": "2022-05-02T14:01:42.282333Z"
    }
   },
   "outputs": [],
   "source": [
    "#create place cell dataframe\n",
    "\n",
    "spatial_analysis['Place cell?'] = spatial_analysis.apply(place_cell, axis=1)\n",
    "spatial_analysis=spatial_analysis.drop(['Difference'], axis=1)\n",
    "spatial_analysis"
   ]
  },
  {
   "cell_type": "code",
   "execution_count": null,
   "id": "3ba810f2",
   "metadata": {
    "ExecuteTime": {
     "end_time": "2022-05-02T14:01:42.326372Z",
     "start_time": "2022-05-02T14:01:42.313362Z"
    }
   },
   "outputs": [],
   "source": [
    "#write to file\n",
    "spatial_analysis.to_csv(f'{newpath}/{testName}D1R1_place_cell_identity.csv', index=True)"
   ]
  },
  {
   "cell_type": "markdown",
   "id": "18a074a4",
   "metadata": {},
   "source": [
    "# From here session 2"
   ]
  },
  {
   "cell_type": "code",
   "execution_count": null,
   "id": "dfc7ad58",
   "metadata": {
    "ExecuteTime": {
     "end_time": "2022-05-02T14:01:43.027024Z",
     "start_time": "2022-05-02T14:01:42.328376Z"
    }
   },
   "outputs": [],
   "source": [
    "#read in the combined Ca imaging and behavioural data for one session, delete intermdiate data, rename speed column\n",
    "\n",
    "interpolated_data_for_session=pd.read_csv(os.path.join(path, Ca_data2))\n",
    "interpolated_data_for_session=interpolated_data_for_session.drop(['Unnamed: 0','Interpolated speed', 'x-velocity','y-velocity'], axis=1)\n",
    "interpolated_data_for_session=interpolated_data_for_session.rename({'Calculated speed': 'Speed'}, axis=1)\n",
    "interpolated_data_for_session"
   ]
  },
  {
   "cell_type": "code",
   "execution_count": null,
   "id": "ca3c5726",
   "metadata": {
    "ExecuteTime": {
     "end_time": "2022-05-02T14:01:43.171155Z",
     "start_time": "2022-05-02T14:01:43.028025Z"
    }
   },
   "outputs": [],
   "source": [
    "#prune data\n",
    "if pruning==1:\n",
    "    interpolated_data_for_session=prune(interpolated_data_for_session)\n",
    "interpolated_data_for_session    "
   ]
  },
  {
   "cell_type": "code",
   "execution_count": null,
   "id": "df6acfb6",
   "metadata": {
    "ExecuteTime": {
     "end_time": "2022-05-02T14:01:43.187170Z",
     "start_time": "2022-05-02T14:01:43.173157Z"
    }
   },
   "outputs": [],
   "source": [
    "N_cells=len(interpolated_data_for_session.columns)-5\n",
    "N_cells"
   ]
  },
  {
   "cell_type": "code",
   "execution_count": null,
   "id": "f3ec7eaa",
   "metadata": {
    "ExecuteTime": {
     "end_time": "2022-05-02T14:01:43.203184Z",
     "start_time": "2022-05-02T14:01:43.189172Z"
    }
   },
   "outputs": [],
   "source": [
    "#calculate the overall occupancy per bin\n",
    "occupancy_time = pd.DataFrame(np.bincount(interpolated_data_for_session['Grid no.'], minlength = 257),columns = ['Freq visit'] )\n",
    "occupancy_time['Duration'] = occupancy_time*Delta_time\n",
    "occupancy_time=occupancy_time.drop([0])\n",
    "occupancy_time=occupancy_time.drop(['Freq visit'], axis=1)\n",
    "total_time = occupancy_time['Duration'].sum()\n",
    "bin_probability = occupancy_time['Duration'].div(total_time)\n",
    "\n",
    "occupancy_time"
   ]
  },
  {
   "cell_type": "code",
   "execution_count": null,
   "id": "5b820607",
   "metadata": {
    "ExecuteTime": {
     "end_time": "2022-05-02T14:01:43.315286Z",
     "start_time": "2022-05-02T14:01:43.205186Z"
    }
   },
   "outputs": [],
   "source": [
    "#calculate activity map and combine with duration data\n",
    "cell_activations_per_bin=activity_map(interpolated_data_for_session)\n",
    "cell_activations_per_bin"
   ]
  },
  {
   "cell_type": "code",
   "execution_count": null,
   "id": "a8c24856",
   "metadata": {
    "ExecuteTime": {
     "end_time": "2022-05-02T14:01:44.332199Z",
     "start_time": "2022-05-02T14:01:43.317288Z"
    }
   },
   "outputs": [],
   "source": [
    "#zero rows with occupancy numbers less than threshold\n",
    "n=0\n",
    "limit=len(cell_activations_per_bin.index)\n",
    "\n",
    "for i in range (0, limit):\n",
    "    if occupancy_time.iloc[i,0]<threshold_time:\n",
    "        n=n+1\n",
    "        for j in range (0, N_cells):\n",
    "            cell_activations_per_bin.iloc[i,j]=0\n",
    "\n",
    "print(n)\n"
   ]
  },
  {
   "cell_type": "code",
   "execution_count": null,
   "id": "a4fbe341",
   "metadata": {
    "ExecuteTime": {
     "end_time": "2022-05-02T14:01:44.363226Z",
     "start_time": "2022-05-02T14:01:44.334200Z"
    }
   },
   "outputs": [],
   "source": [
    "true_bin_data=pd.concat([occupancy_time, cell_activations_per_bin], axis=1).fillna(0)\n",
    "true_bin_data"
   ]
  },
  {
   "cell_type": "code",
   "execution_count": null,
   "id": "5a044170",
   "metadata": {
    "ExecuteTime": {
     "end_time": "2022-05-02T14:01:44.394254Z",
     "start_time": "2022-05-02T14:01:44.365228Z"
    }
   },
   "outputs": [],
   "source": [
    "#calculate the true spatial infomation for the cells\n",
    "true_spatial_information=spatial_info(true_bin_data)\n",
    "true_spatial_information"
   ]
  },
  {
   "cell_type": "code",
   "execution_count": null,
   "id": "061340f9",
   "metadata": {
    "ExecuteTime": {
     "end_time": "2022-05-02T14:01:44.650488Z",
     "start_time": "2022-05-02T14:01:44.396256Z"
    }
   },
   "outputs": [],
   "source": [
    "#Next, the spatial information for the shuffles is calculated\n",
    "\n",
    "shuffled_raw_data=shuffle(interpolated_data_for_session)\n",
    "if pruning==1:\n",
    "    shuffled_raw_data=prune(shuffled_raw_data)\n",
    "shuffled_activations_per_bin=activity_map(shuffled_raw_data)\n",
    "shuffled_bin_data=pd.concat([occupancy_time, shuffled_activations_per_bin], axis=1).fillna(0)\n",
    "shuffled_spatial_information=spatial_info(shuffled_bin_data)\n",
    "\n",
    "shuffled_spatial_information_df=shuffled_spatial_information\n",
    "\n",
    "shuffled_spatial_information_df"
   ]
  },
  {
   "cell_type": "code",
   "execution_count": null,
   "id": "06a558d6",
   "metadata": {
    "ExecuteTime": {
     "end_time": "2022-05-02T14:09:29.695025Z",
     "start_time": "2022-05-02T14:01:44.651489Z"
    }
   },
   "outputs": [],
   "source": [
    "for i in range (No_shuffles):\n",
    "    shuffled_raw_data=shuffle(interpolated_data_for_session)\n",
    "    if pruning==1:\n",
    "        shuffled_raw_data=prune(shuffled_raw_data)\n",
    "    shuffled_activations_per_bin=activity_map(shuffled_raw_data)\n",
    "    shuffled_bin_data=pd.concat([occupancy_time, shuffled_activations_per_bin], axis=1).fillna(0)\n",
    "    shuffled_spatial_information=spatial_info(shuffled_bin_data)\n",
    "    \n",
    "    shuffled_spatial_information_df=pd.concat([shuffled_spatial_information_df, shuffled_spatial_information], axis=1)\n",
    "\n",
    "shuffled_spatial_information_df"
   ]
  },
  {
   "cell_type": "code",
   "execution_count": null,
   "id": "03e83e3e",
   "metadata": {
    "ExecuteTime": {
     "end_time": "2022-05-02T14:09:29.790112Z",
     "start_time": "2022-05-02T14:09:29.696026Z"
    }
   },
   "outputs": [],
   "source": [
    "#sort them in order\n",
    "shuffled_spatial_information_df.values.sort()\n",
    "shuffled_spatial_information_df"
   ]
  },
  {
   "cell_type": "code",
   "execution_count": null,
   "id": "880371eb",
   "metadata": {
    "ExecuteTime": {
     "end_time": "2022-05-02T14:09:29.805125Z",
     "start_time": "2022-05-02T14:09:29.792114Z"
    }
   },
   "outputs": [],
   "source": [
    "#what is the n% top value for each cell?\n",
    "special_index=np.floor(No_shuffles*(100-Spat_inf_thresh)/100)\n",
    "special_index=int(special_index)\n",
    "spatial_info_value_to_beat=shuffled_spatial_information_df.iloc[:,special_index]\n",
    "spatial_info_value_to_beat"
   ]
  },
  {
   "cell_type": "code",
   "execution_count": null,
   "id": "c53bb162",
   "metadata": {
    "ExecuteTime": {
     "end_time": "2022-05-02T14:09:29.821140Z",
     "start_time": "2022-05-02T14:09:29.806126Z"
    }
   },
   "outputs": [],
   "source": [
    "#calculate difference between spatial info and the top n% value\n",
    "spatial_analysis=pd.concat([true_spatial_information.rename('Spatial info'), spatial_info_value_to_beat.rename('Shuffled spatial info')], axis=1)\n",
    "spatial_analysis['Difference']=spatial_analysis['Spatial info']-spatial_analysis['Shuffled spatial info']\n",
    "spatial_analysis"
   ]
  },
  {
   "cell_type": "code",
   "execution_count": null,
   "id": "de17b928",
   "metadata": {
    "ExecuteTime": {
     "end_time": "2022-05-02T14:09:29.837154Z",
     "start_time": "2022-05-02T14:09:29.823142Z"
    }
   },
   "outputs": [],
   "source": [
    "Eventcount_threthold = total_time#/60#EventCount_Threthold\n",
    "Eventcount_threthold"
   ]
  },
  {
   "cell_type": "code",
   "execution_count": null,
   "id": "6a77003e",
   "metadata": {
    "ExecuteTime": {
     "end_time": "2022-05-02T14:09:29.852995Z",
     "start_time": "2022-05-02T14:09:29.839157Z"
    }
   },
   "outputs": [],
   "source": [
    "def place_cell (row):\n",
    "    if row['Difference']>0:\n",
    "        return 'Place cell'\n",
    "    else:\n",
    "        return 'Not place cell'"
   ]
  },
  {
   "cell_type": "code",
   "execution_count": null,
   "id": "10fc4aa8",
   "metadata": {
    "ExecuteTime": {
     "end_time": "2022-05-02T14:09:29.884025Z",
     "start_time": "2022-05-02T14:09:29.853997Z"
    }
   },
   "outputs": [],
   "source": [
    "spatial_analysis['Place cell?'] = spatial_analysis.apply(place_cell, axis=1)\n",
    "spatial_analysis=spatial_analysis.drop(['Difference'], axis=1)\n",
    "spatial_analysis"
   ]
  },
  {
   "cell_type": "code",
   "execution_count": null,
   "id": "907431d8",
   "metadata": {
    "ExecuteTime": {
     "end_time": "2022-05-02T14:09:29.900039Z",
     "start_time": "2022-05-02T14:09:29.886027Z"
    }
   },
   "outputs": [],
   "source": [
    "#write to file\n",
    "spatial_analysis.to_csv(f'{newpath}/{testName}D1R2_place_cell_identity.csv', index=True)"
   ]
  },
  {
   "cell_type": "markdown",
   "id": "a7035654",
   "metadata": {},
   "source": [
    "# From here session 3"
   ]
  },
  {
   "cell_type": "code",
   "execution_count": null,
   "id": "05862862",
   "metadata": {
    "ExecuteTime": {
     "end_time": "2022-05-02T14:09:30.715795Z",
     "start_time": "2022-05-02T14:09:29.902041Z"
    }
   },
   "outputs": [],
   "source": [
    "#read in the combined Ca imaging and behavioural data for one session, delete intermdiate data, rename speed column\n",
    "\n",
    "interpolated_data_for_session=pd.read_csv(os.path.join(path, Ca_data3))\n",
    "interpolated_data_for_session=interpolated_data_for_session.drop(['Unnamed: 0','Interpolated speed', 'x-velocity','y-velocity'], axis=1)\n",
    "interpolated_data_for_session=interpolated_data_for_session.rename({'Calculated speed': 'Speed'}, axis=1)\n",
    "interpolated_data_for_session"
   ]
  },
  {
   "cell_type": "code",
   "execution_count": null,
   "id": "74530e8b",
   "metadata": {
    "ExecuteTime": {
     "end_time": "2022-05-02T14:09:30.875941Z",
     "start_time": "2022-05-02T14:09:30.717797Z"
    }
   },
   "outputs": [],
   "source": [
    "#prune data\n",
    "if pruning==1:\n",
    "    interpolated_data_for_session=prune(interpolated_data_for_session)\n",
    "interpolated_data_for_session    "
   ]
  },
  {
   "cell_type": "code",
   "execution_count": null,
   "id": "7ba7a0fe",
   "metadata": {
    "ExecuteTime": {
     "end_time": "2022-05-02T14:09:30.891956Z",
     "start_time": "2022-05-02T14:09:30.877943Z"
    }
   },
   "outputs": [],
   "source": [
    "N_cells=len(interpolated_data_for_session.columns)-5\n",
    "N_cells"
   ]
  },
  {
   "cell_type": "code",
   "execution_count": null,
   "id": "118850ac",
   "metadata": {
    "ExecuteTime": {
     "end_time": "2022-05-02T14:09:30.923985Z",
     "start_time": "2022-05-02T14:09:30.893958Z"
    }
   },
   "outputs": [],
   "source": [
    "#calculate the overall occupancy per bin\n",
    "occupancy_time = pd.DataFrame(np.bincount(interpolated_data_for_session['Grid no.'], minlength = 257),columns = ['Freq visit'] )\n",
    "occupancy_time['Duration'] = occupancy_time*Delta_time\n",
    "occupancy_time=occupancy_time.drop([0])\n",
    "occupancy_time=occupancy_time.drop(['Freq visit'], axis=1)\n",
    "total_time = occupancy_time['Duration'].sum()\n",
    "bin_probability = occupancy_time['Duration'].div(total_time)\n",
    "\n",
    "occupancy_time"
   ]
  },
  {
   "cell_type": "code",
   "execution_count": null,
   "id": "d9931dae",
   "metadata": {
    "ExecuteTime": {
     "end_time": "2022-05-02T14:09:31.034085Z",
     "start_time": "2022-05-02T14:09:30.925987Z"
    }
   },
   "outputs": [],
   "source": [
    "#calculate activity map and combine with duration data\n",
    "cell_activations_per_bin=activity_map(interpolated_data_for_session)\n"
   ]
  },
  {
   "cell_type": "code",
   "execution_count": null,
   "id": "ccf3c85d",
   "metadata": {
    "ExecuteTime": {
     "end_time": "2022-05-02T14:09:31.624609Z",
     "start_time": "2022-05-02T14:09:31.036087Z"
    }
   },
   "outputs": [],
   "source": [
    "#zero rows with occupancy numbers less than threshold\n",
    "n=0\n",
    "limit=len(cell_activations_per_bin.index)\n",
    "\n",
    "for i in range (0, limit):\n",
    "    if occupancy_time.iloc[i,0]<threshold_time:\n",
    "        n=n+1\n",
    "        for j in range (0, N_cells):\n",
    "            cell_activations_per_bin.iloc[i,j]=0\n",
    "\n",
    "print(n)\n"
   ]
  },
  {
   "cell_type": "code",
   "execution_count": null,
   "id": "81eae3a5",
   "metadata": {
    "ExecuteTime": {
     "end_time": "2022-05-02T14:09:31.672653Z",
     "start_time": "2022-05-02T14:09:31.625610Z"
    }
   },
   "outputs": [],
   "source": [
    "true_bin_data=pd.concat([occupancy_time, cell_activations_per_bin], axis=1).fillna(0)\n",
    "true_bin_data"
   ]
  },
  {
   "cell_type": "code",
   "execution_count": null,
   "id": "78dbbafa",
   "metadata": {
    "ExecuteTime": {
     "end_time": "2022-05-02T14:09:31.704682Z",
     "start_time": "2022-05-02T14:09:31.673654Z"
    }
   },
   "outputs": [],
   "source": [
    "#calculate the true spatial infomation for the cells\n",
    "true_spatial_information=spatial_info(true_bin_data)\n",
    "true_spatial_information"
   ]
  },
  {
   "cell_type": "code",
   "execution_count": null,
   "id": "cbaca3f2",
   "metadata": {
    "ExecuteTime": {
     "end_time": "2022-05-02T14:09:32.020983Z",
     "start_time": "2022-05-02T14:09:31.707684Z"
    }
   },
   "outputs": [],
   "source": [
    "#Next, the spatial information for the shuffles is calculated\n",
    "\n",
    "shuffled_raw_data=shuffle(interpolated_data_for_session)\n",
    "if pruning==1:\n",
    "    shuffled_raw_data=prune(shuffled_raw_data)\n",
    "shuffled_activations_per_bin=activity_map(shuffled_raw_data)\n",
    "shuffled_bin_data=pd.concat([occupancy_time, shuffled_activations_per_bin], axis=1).fillna(0)\n",
    "shuffled_spatial_information=spatial_info(shuffled_bin_data)\n",
    "\n",
    "shuffled_spatial_information_df=shuffled_spatial_information\n",
    "\n",
    "shuffled_spatial_information_df"
   ]
  },
  {
   "cell_type": "code",
   "execution_count": null,
   "id": "beade0b5",
   "metadata": {
    "ExecuteTime": {
     "end_time": "2022-05-02T14:17:59.596122Z",
     "start_time": "2022-05-02T14:09:32.022985Z"
    }
   },
   "outputs": [],
   "source": [
    "for i in range (No_shuffles):\n",
    "    shuffled_raw_data=shuffle(interpolated_data_for_session)\n",
    "    if pruning==1:\n",
    "        shuffled_raw_data=prune(shuffled_raw_data)\n",
    "    shuffled_activations_per_bin=activity_map(shuffled_raw_data)\n",
    "    shuffled_bin_data=pd.concat([occupancy_time, shuffled_activations_per_bin], axis=1).fillna(0)\n",
    "    shuffled_spatial_information=spatial_info(shuffled_bin_data)\n",
    "    \n",
    "    shuffled_spatial_information_df=pd.concat([shuffled_spatial_information_df, shuffled_spatial_information], axis=1)\n",
    "\n",
    "shuffled_spatial_information_df"
   ]
  },
  {
   "cell_type": "code",
   "execution_count": null,
   "id": "ccdbfa76",
   "metadata": {
    "ExecuteTime": {
     "end_time": "2022-05-02T14:17:59.706221Z",
     "start_time": "2022-05-02T14:17:59.598122Z"
    }
   },
   "outputs": [],
   "source": [
    "#sort them in order\n",
    "shuffled_spatial_information_df.values.sort()\n",
    "shuffled_spatial_information_df"
   ]
  },
  {
   "cell_type": "code",
   "execution_count": null,
   "id": "a0586325",
   "metadata": {
    "ExecuteTime": {
     "end_time": "2022-05-02T14:17:59.722235Z",
     "start_time": "2022-05-02T14:17:59.708223Z"
    }
   },
   "outputs": [],
   "source": [
    "#what is the n% top value for each cell?\n",
    "special_index=np.floor(No_shuffles*(100-Spat_inf_thresh)/100)\n",
    "special_index=int(special_index)\n",
    "spatial_info_value_to_beat=shuffled_spatial_information_df.iloc[:,special_index]\n",
    "spatial_info_value_to_beat"
   ]
  },
  {
   "cell_type": "code",
   "execution_count": null,
   "id": "83b67111",
   "metadata": {
    "ExecuteTime": {
     "end_time": "2022-05-02T14:17:59.754264Z",
     "start_time": "2022-05-02T14:17:59.723237Z"
    }
   },
   "outputs": [],
   "source": [
    "#calculate difference between spatial info and the top n% value\n",
    "spatial_analysis=pd.concat([true_spatial_information.rename('Spatial info'), spatial_info_value_to_beat.rename('Shuffled spatial info')], axis=1)\n",
    "spatial_analysis['Difference']=spatial_analysis['Spatial info']-spatial_analysis['Shuffled spatial info']\n",
    "spatial_analysis"
   ]
  },
  {
   "cell_type": "code",
   "execution_count": null,
   "id": "d816ac04",
   "metadata": {
    "ExecuteTime": {
     "end_time": "2022-05-02T14:17:59.770279Z",
     "start_time": "2022-05-02T14:17:59.756266Z"
    }
   },
   "outputs": [],
   "source": [
    "Eventcount_threthold = total_time#/60#EventCount_Threthold\n",
    "Eventcount_threthold"
   ]
  },
  {
   "cell_type": "code",
   "execution_count": null,
   "id": "2c0acaec",
   "metadata": {
    "ExecuteTime": {
     "end_time": "2022-05-02T14:17:59.786294Z",
     "start_time": "2022-05-02T14:17:59.773282Z"
    }
   },
   "outputs": [],
   "source": [
    "def place_cell (row):\n",
    "    if row['Difference']>0:\n",
    "        return 'Place cell'\n",
    "    else:\n",
    "        return 'Not place cell'"
   ]
  },
  {
   "cell_type": "code",
   "execution_count": null,
   "id": "10fd7c03",
   "metadata": {
    "ExecuteTime": {
     "end_time": "2022-05-02T14:17:59.818323Z",
     "start_time": "2022-05-02T14:17:59.788295Z"
    }
   },
   "outputs": [],
   "source": [
    "spatial_analysis['Place cell?'] = spatial_analysis.apply(place_cell, axis=1)\n",
    "spatial_analysis=spatial_analysis.drop(['Difference'], axis=1)\n",
    "spatial_analysis"
   ]
  },
  {
   "cell_type": "code",
   "execution_count": null,
   "id": "2a75d1af",
   "metadata": {
    "ExecuteTime": {
     "end_time": "2022-05-02T14:17:59.834337Z",
     "start_time": "2022-05-02T14:17:59.820325Z"
    }
   },
   "outputs": [],
   "source": [
    "#write to file\n",
    "spatial_analysis.to_csv(f'{newpath}/{testName}D2R1_place_cell_identity.csv', index=True)"
   ]
  },
  {
   "cell_type": "markdown",
   "id": "a0ee6d9d",
   "metadata": {},
   "source": [
    "# From here session 4"
   ]
  },
  {
   "cell_type": "code",
   "execution_count": null,
   "id": "9fd2749c",
   "metadata": {
    "ExecuteTime": {
     "end_time": "2022-05-02T14:18:00.585020Z",
     "start_time": "2022-05-02T14:17:59.836341Z"
    }
   },
   "outputs": [],
   "source": [
    "#read in the combined Ca imaging and behavioural data for one session, delete intermdiate data, rename speed column\n",
    "\n",
    "interpolated_data_for_session=pd.read_csv(os.path.join(path, Ca_data4))\n",
    "interpolated_data_for_session=interpolated_data_for_session.drop(['Unnamed: 0','Interpolated speed', 'x-velocity','y-velocity'], axis=1)\n",
    "interpolated_data_for_session=interpolated_data_for_session.rename({'Calculated speed': 'Speed'}, axis=1)\n",
    "interpolated_data_for_session"
   ]
  },
  {
   "cell_type": "code",
   "execution_count": null,
   "id": "5f66d4b2",
   "metadata": {
    "ExecuteTime": {
     "end_time": "2022-05-02T14:18:00.774193Z",
     "start_time": "2022-05-02T14:18:00.587023Z"
    }
   },
   "outputs": [],
   "source": [
    "#prune data\n",
    "if pruning==1:\n",
    "    interpolated_data_for_session=prune(interpolated_data_for_session)\n",
    "interpolated_data_for_session    "
   ]
  },
  {
   "cell_type": "code",
   "execution_count": null,
   "id": "08ac3bb6",
   "metadata": {
    "ExecuteTime": {
     "end_time": "2022-05-02T14:18:00.790207Z",
     "start_time": "2022-05-02T14:18:00.776197Z"
    }
   },
   "outputs": [],
   "source": [
    "N_cells=len(interpolated_data_for_session.columns)-5\n",
    "N_cells"
   ]
  },
  {
   "cell_type": "code",
   "execution_count": null,
   "id": "4521f8c7",
   "metadata": {
    "ExecuteTime": {
     "end_time": "2022-05-02T14:18:00.805221Z",
     "start_time": "2022-05-02T14:18:00.791208Z"
    }
   },
   "outputs": [],
   "source": [
    "#calculate the overall occupancy per bin\n",
    "occupancy_time = pd.DataFrame(np.bincount(interpolated_data_for_session['Grid no.'], minlength = 257),columns = ['Freq visit'] )\n",
    "occupancy_time['Duration'] = occupancy_time*Delta_time\n",
    "occupancy_time=occupancy_time.drop([0])\n",
    "occupancy_time=occupancy_time.drop(['Freq visit'], axis=1)\n",
    "total_time = occupancy_time['Duration'].sum()\n",
    "bin_probability = occupancy_time['Duration'].div(total_time)\n",
    "\n",
    "occupancy_time"
   ]
  },
  {
   "cell_type": "code",
   "execution_count": null,
   "id": "961a4342",
   "metadata": {
    "ExecuteTime": {
     "end_time": "2022-05-02T14:18:00.933338Z",
     "start_time": "2022-05-02T14:18:00.816232Z"
    }
   },
   "outputs": [],
   "source": [
    "#calculate activity map and combine with duration data\n",
    "cell_activations_per_bin=activity_map(interpolated_data_for_session)"
   ]
  },
  {
   "cell_type": "code",
   "execution_count": null,
   "id": "8227eced",
   "metadata": {
    "ExecuteTime": {
     "end_time": "2022-05-02T14:18:01.684021Z",
     "start_time": "2022-05-02T14:18:00.936342Z"
    }
   },
   "outputs": [],
   "source": [
    "#zero rows with occupancy numbers less than threshold\n",
    "n=0\n",
    "limit=len(cell_activations_per_bin.index)\n",
    "\n",
    "for i in range (0, limit):\n",
    "    if occupancy_time.iloc[i,0]<threshold_time:\n",
    "        n=n+1\n",
    "        for j in range (0, N_cells):\n",
    "            cell_activations_per_bin.iloc[i,j]=0\n",
    "\n",
    "print(n)\n"
   ]
  },
  {
   "cell_type": "code",
   "execution_count": null,
   "id": "56f1349d",
   "metadata": {
    "ExecuteTime": {
     "end_time": "2022-05-02T14:18:01.748079Z",
     "start_time": "2022-05-02T14:18:01.686023Z"
    },
    "scrolled": true
   },
   "outputs": [],
   "source": [
    "true_bin_data=pd.concat([occupancy_time, cell_activations_per_bin], axis=1).fillna(0)\n",
    "true_bin_data"
   ]
  },
  {
   "cell_type": "code",
   "execution_count": null,
   "id": "2790eb74",
   "metadata": {
    "ExecuteTime": {
     "end_time": "2022-05-02T14:18:01.780108Z",
     "start_time": "2022-05-02T14:18:01.750083Z"
    }
   },
   "outputs": [],
   "source": [
    "#calculate the true spatial infomation for the cells\n",
    "true_spatial_information=spatial_info(true_bin_data)\n",
    "true_spatial_information"
   ]
  },
  {
   "cell_type": "code",
   "execution_count": null,
   "id": "032fa2cb",
   "metadata": {
    "ExecuteTime": {
     "end_time": "2022-05-02T14:18:02.036341Z",
     "start_time": "2022-05-02T14:18:01.781111Z"
    }
   },
   "outputs": [],
   "source": [
    "#Next, the spatial information for the shuffles is calculated\n",
    "\n",
    "shuffled_raw_data=shuffle(interpolated_data_for_session)\n",
    "if pruning==1:\n",
    "    shuffled_raw_data=prune(shuffled_raw_data)\n",
    "shuffled_activations_per_bin=activity_map(shuffled_raw_data)\n",
    "shuffled_bin_data=pd.concat([occupancy_time, shuffled_activations_per_bin], axis=1).fillna(0)\n",
    "shuffled_spatial_information=spatial_info(shuffled_bin_data)\n",
    "\n",
    "shuffled_spatial_information_df=shuffled_spatial_information\n",
    "\n",
    "shuffled_spatial_information_df"
   ]
  },
  {
   "cell_type": "code",
   "execution_count": null,
   "id": "03f1df38",
   "metadata": {
    "ExecuteTime": {
     "end_time": "2022-05-02T14:26:10.927180Z",
     "start_time": "2022-05-02T14:18:02.038344Z"
    }
   },
   "outputs": [],
   "source": [
    "for i in range (No_shuffles):\n",
    "    shuffled_raw_data=shuffle(interpolated_data_for_session)\n",
    "    if pruning==1:\n",
    "        shuffled_raw_data=prune(shuffled_raw_data)\n",
    "    shuffled_activations_per_bin=activity_map(shuffled_raw_data)\n",
    "    shuffled_bin_data=pd.concat([occupancy_time, shuffled_activations_per_bin], axis=1).fillna(0)\n",
    "    shuffled_spatial_information=spatial_info(shuffled_bin_data)\n",
    "    \n",
    "    shuffled_spatial_information_df=pd.concat([shuffled_spatial_information_df, shuffled_spatial_information], axis=1)\n",
    "\n",
    "shuffled_spatial_information_df"
   ]
  },
  {
   "cell_type": "code",
   "execution_count": null,
   "id": "4853e790",
   "metadata": {
    "ExecuteTime": {
     "end_time": "2022-05-02T14:26:10.991244Z",
     "start_time": "2022-05-02T14:26:10.928181Z"
    }
   },
   "outputs": [],
   "source": [
    "#sort them in order\n",
    "shuffled_spatial_information_df.values.sort()\n",
    "shuffled_spatial_information_df"
   ]
  },
  {
   "cell_type": "code",
   "execution_count": null,
   "id": "57051c3f",
   "metadata": {
    "ExecuteTime": {
     "end_time": "2022-05-02T14:26:11.007259Z",
     "start_time": "2022-05-02T14:26:10.992245Z"
    },
    "scrolled": true
   },
   "outputs": [],
   "source": [
    "#what is the n% top value for each cell?\n",
    "special_index=np.floor(No_shuffles*(100-Spat_inf_thresh)/100)\n",
    "special_index=int(special_index)\n",
    "spatial_info_value_to_beat=shuffled_spatial_information_df.iloc[:,special_index]\n",
    "spatial_info_value_to_beat"
   ]
  },
  {
   "cell_type": "code",
   "execution_count": null,
   "id": "a88bd1be",
   "metadata": {
    "ExecuteTime": {
     "end_time": "2022-05-02T14:26:11.023274Z",
     "start_time": "2022-05-02T14:26:11.008260Z"
    }
   },
   "outputs": [],
   "source": [
    "#calculate difference between spatial info and the top n% value\n",
    "spatial_analysis=pd.concat([true_spatial_information.rename('Spatial info'), spatial_info_value_to_beat.rename('Shuffled spatial info')], axis=1)\n",
    "spatial_analysis['Difference']=spatial_analysis['Spatial info']-spatial_analysis['Shuffled spatial info']\n",
    "spatial_analysis"
   ]
  },
  {
   "cell_type": "code",
   "execution_count": null,
   "id": "e4694738",
   "metadata": {
    "ExecuteTime": {
     "end_time": "2022-05-02T14:26:11.039288Z",
     "start_time": "2022-05-02T14:26:11.024275Z"
    }
   },
   "outputs": [],
   "source": [
    "Eventcount_threthold = total_time#/60#EventCount_Threthold\n",
    "Eventcount_threthold"
   ]
  },
  {
   "cell_type": "code",
   "execution_count": null,
   "id": "34c67915",
   "metadata": {
    "ExecuteTime": {
     "end_time": "2022-05-02T14:26:11.055304Z",
     "start_time": "2022-05-02T14:26:11.041291Z"
    }
   },
   "outputs": [],
   "source": [
    "def place_cell (row):\n",
    "    if row['Difference']>0:\n",
    "        return 'Place cell'\n",
    "    else:\n",
    "        return 'Not place cell'"
   ]
  },
  {
   "cell_type": "code",
   "execution_count": null,
   "id": "4d024954",
   "metadata": {
    "ExecuteTime": {
     "end_time": "2022-05-02T14:26:11.087332Z",
     "start_time": "2022-05-02T14:26:11.056305Z"
    }
   },
   "outputs": [],
   "source": [
    "spatial_analysis['Place cell?'] = spatial_analysis.apply(place_cell, axis=1)\n",
    "spatial_analysis=spatial_analysis.drop(['Difference'], axis=1)\n",
    "spatial_analysis"
   ]
  },
  {
   "cell_type": "code",
   "execution_count": null,
   "id": "11567137",
   "metadata": {
    "ExecuteTime": {
     "end_time": "2022-05-02T14:26:11.103347Z",
     "start_time": "2022-05-02T14:26:11.088334Z"
    }
   },
   "outputs": [],
   "source": [
    "#write to file\n",
    "spatial_analysis.to_csv(f'{newpath}/{testName}D2R2_place_cell_identity.csv', index=True)"
   ]
  },
  {
   "cell_type": "markdown",
   "id": "d71e9496",
   "metadata": {},
   "source": [
    "# From here Session 5"
   ]
  },
  {
   "cell_type": "code",
   "execution_count": null,
   "id": "cab45b82",
   "metadata": {
    "ExecuteTime": {
     "end_time": "2022-05-03T09:17:15.232318Z",
     "start_time": "2022-05-03T09:17:14.966076Z"
    }
   },
   "outputs": [],
   "source": [
    "#read in the combined Ca imaging and behavioural data for one session, delete intermdiate data, rename speed column\n",
    "\n",
    "interpolated_data_for_session=pd.read_csv(os.path.join(path, Ca_data5))\n",
    "interpolated_data_for_session=interpolated_data_for_session.drop(['Unnamed: 0','Interpolated speed', 'x-velocity','y-velocity'], axis=1)\n",
    "interpolated_data_for_session=interpolated_data_for_session.rename({'Calculated speed': 'Speed'}, axis=1)\n",
    "interpolated_data_for_session"
   ]
  },
  {
   "cell_type": "code",
   "execution_count": null,
   "id": "0eaf2c8a",
   "metadata": {
    "ExecuteTime": {
     "end_time": "2022-05-03T09:17:15.706701Z",
     "start_time": "2022-05-03T09:17:15.629631Z"
    }
   },
   "outputs": [],
   "source": [
    "#prune data\n",
    "if pruning==1:\n",
    "    interpolated_data_for_session=prune(interpolated_data_for_session)\n",
    "interpolated_data_for_session    "
   ]
  },
  {
   "cell_type": "code",
   "execution_count": null,
   "id": "52f2f985",
   "metadata": {
    "ExecuteTime": {
     "end_time": "2022-05-03T09:17:16.227644Z",
     "start_time": "2022-05-03T09:17:16.213631Z"
    }
   },
   "outputs": [],
   "source": [
    "N_cells=len(interpolated_data_for_session.columns)-5\n",
    "N_cells"
   ]
  },
  {
   "cell_type": "code",
   "execution_count": null,
   "id": "1ad26a37",
   "metadata": {
    "ExecuteTime": {
     "end_time": "2022-05-03T09:17:16.747898Z",
     "start_time": "2022-05-03T09:17:16.726879Z"
    }
   },
   "outputs": [],
   "source": [
    "#calculate the overall occupancy per bin\n",
    "occupancy_time = pd.DataFrame(np.bincount(interpolated_data_for_session['Grid no.'], minlength = 257),columns = ['Freq visit'] )\n",
    "occupancy_time['Duration'] = occupancy_time*Delta_time\n",
    "occupancy_time=occupancy_time.drop([0])\n",
    "occupancy_time=occupancy_time.drop(['Freq visit'], axis=1)\n",
    "total_time = occupancy_time['Duration'].sum()\n",
    "bin_probability = occupancy_time['Duration'].div(total_time)\n",
    "\n",
    "occupancy_time"
   ]
  },
  {
   "cell_type": "code",
   "execution_count": null,
   "id": "e4089493",
   "metadata": {
    "ExecuteTime": {
     "end_time": "2022-05-03T09:17:17.315660Z",
     "start_time": "2022-05-03T09:17:17.284632Z"
    }
   },
   "outputs": [],
   "source": [
    "#calculate activity map and combine with duration data\n",
    "cell_activations_per_bin=activity_map(interpolated_data_for_session)"
   ]
  },
  {
   "cell_type": "code",
   "execution_count": null,
   "id": "1500b62a",
   "metadata": {
    "ExecuteTime": {
     "end_time": "2022-05-03T09:17:18.315090Z",
     "start_time": "2022-05-03T09:17:17.812633Z"
    }
   },
   "outputs": [],
   "source": [
    "#zero rows with occupancy numbers less than threshold\n",
    "n=0\n",
    "limit=len(cell_activations_per_bin.index)\n",
    "\n",
    "for i in range (0, limit):\n",
    "    if occupancy_time.iloc[i,0]<threshold_time:\n",
    "        n=n+1\n",
    "        for j in range (0, N_cells):\n",
    "            cell_activations_per_bin.iloc[i,j]=0\n",
    "\n",
    "print(n)\n"
   ]
  },
  {
   "cell_type": "code",
   "execution_count": null,
   "id": "43d2be41",
   "metadata": {
    "ExecuteTime": {
     "end_time": "2022-05-03T09:17:18.395163Z",
     "start_time": "2022-05-03T09:17:18.343116Z"
    }
   },
   "outputs": [],
   "source": [
    "true_bin_data=pd.concat([occupancy_time, cell_activations_per_bin], axis=1).fillna(0)\n",
    "true_bin_data"
   ]
  },
  {
   "cell_type": "code",
   "execution_count": null,
   "id": "26cfa22f",
   "metadata": {
    "ExecuteTime": {
     "end_time": "2022-05-03T09:17:19.302086Z",
     "start_time": "2022-05-03T09:17:19.277064Z"
    }
   },
   "outputs": [],
   "source": [
    "#calculate the true spatial infomation for the cells\n",
    "true_spatial_information=spatial_info(true_bin_data)\n",
    "true_spatial_information"
   ]
  },
  {
   "cell_type": "code",
   "execution_count": null,
   "id": "4862c5d7",
   "metadata": {
    "ExecuteTime": {
     "end_time": "2022-05-03T09:17:20.037122Z",
     "start_time": "2022-05-03T09:17:19.974068Z"
    }
   },
   "outputs": [],
   "source": [
    "#Next, the spatial information for the shuffles is calculated\n",
    "\n",
    "shuffled_raw_data=shuffle(interpolated_data_for_session)\n",
    "if pruning==1:\n",
    "    shuffled_raw_data=prune(shuffled_raw_data)\n",
    "shuffled_activations_per_bin=activity_map(shuffled_raw_data)\n",
    "shuffled_bin_data=pd.concat([occupancy_time, shuffled_activations_per_bin], axis=1).fillna(0)\n",
    "shuffled_spatial_information=spatial_info(shuffled_bin_data)\n",
    "\n",
    "shuffled_spatial_information_df=shuffled_spatial_information\n",
    "\n",
    "shuffled_spatial_information_df"
   ]
  },
  {
   "cell_type": "code",
   "execution_count": null,
   "id": "fa26322c",
   "metadata": {
    "ExecuteTime": {
     "end_time": "2022-05-03T09:19:25.131420Z",
     "start_time": "2022-05-03T09:17:20.893339Z"
    }
   },
   "outputs": [],
   "source": [
    "for i in range (No_shuffles):\n",
    "    shuffled_raw_data=shuffle(interpolated_data_for_session)\n",
    "    if pruning==1:\n",
    "        shuffled_raw_data=prune(shuffled_raw_data)\n",
    "    shuffled_activations_per_bin=activity_map(shuffled_raw_data)\n",
    "    shuffled_bin_data=pd.concat([occupancy_time, shuffled_activations_per_bin], axis=1).fillna(0)\n",
    "    shuffled_spatial_information=spatial_info(shuffled_bin_data)\n",
    "    \n",
    "    shuffled_spatial_information_df=pd.concat([shuffled_spatial_information_df, shuffled_spatial_information], axis=1)\n",
    "\n",
    "shuffled_spatial_information_df"
   ]
  },
  {
   "cell_type": "code",
   "execution_count": null,
   "id": "ae0b5869",
   "metadata": {
    "ExecuteTime": {
     "end_time": "2022-05-03T09:19:27.724244Z",
     "start_time": "2022-05-03T09:19:27.663188Z"
    }
   },
   "outputs": [],
   "source": [
    "#sort them in order\n",
    "shuffled_spatial_information_df.values.sort()\n",
    "shuffled_spatial_information_df"
   ]
  },
  {
   "cell_type": "code",
   "execution_count": null,
   "id": "ec26095c",
   "metadata": {
    "ExecuteTime": {
     "end_time": "2022-05-03T09:19:28.362789Z",
     "start_time": "2022-05-03T09:19:28.341770Z"
    }
   },
   "outputs": [],
   "source": [
    "#what is the n% top value for each cell?\n",
    "special_index=np.floor(No_shuffles*(100-Spat_inf_thresh)/100)\n",
    "special_index=int(special_index)\n",
    "spatial_info_value_to_beat=shuffled_spatial_information_df.iloc[:,special_index]\n",
    "spatial_info_value_to_beat"
   ]
  },
  {
   "cell_type": "code",
   "execution_count": null,
   "id": "96d178ec",
   "metadata": {
    "ExecuteTime": {
     "end_time": "2022-05-03T09:19:28.990795Z",
     "start_time": "2022-05-03T09:19:28.965786Z"
    }
   },
   "outputs": [],
   "source": [
    "#calculate difference between spatial info and the top n% value\n",
    "spatial_analysis=pd.concat([true_spatial_information.rename('Spatial info'), spatial_info_value_to_beat.rename('Shuffled spatial info')], axis=1)\n",
    "spatial_analysis['Difference']=spatial_analysis['Spatial info']-spatial_analysis['Shuffled spatial info']\n",
    "spatial_analysis"
   ]
  },
  {
   "cell_type": "code",
   "execution_count": null,
   "id": "89cb3ab4",
   "metadata": {
    "ExecuteTime": {
     "end_time": "2022-05-03T09:19:29.616780Z",
     "start_time": "2022-05-03T09:19:29.605770Z"
    }
   },
   "outputs": [],
   "source": [
    "Eventcount_threthold = total_time#/60#EventCount_Threthold\n",
    "Eventcount_threthold"
   ]
  },
  {
   "cell_type": "code",
   "execution_count": null,
   "id": "f8e53e78",
   "metadata": {
    "ExecuteTime": {
     "end_time": "2022-05-03T09:19:30.213476Z",
     "start_time": "2022-05-03T09:19:30.197463Z"
    }
   },
   "outputs": [],
   "source": [
    "def place_cell (row):\n",
    "    if row['Difference']>0:\n",
    "        return 'Place cell'\n",
    "    else:\n",
    "        return 'Not place cell'"
   ]
  },
  {
   "cell_type": "code",
   "execution_count": null,
   "id": "0f12a05d",
   "metadata": {
    "ExecuteTime": {
     "end_time": "2022-05-03T09:19:30.852233Z",
     "start_time": "2022-05-03T09:19:30.837219Z"
    }
   },
   "outputs": [],
   "source": [
    "spatial_analysis['Place cell?'] = spatial_analysis.apply(place_cell, axis=1)\n",
    "spatial_analysis=spatial_analysis.drop(['Difference'], axis=1)\n",
    "spatial_analysis"
   ]
  },
  {
   "cell_type": "code",
   "execution_count": null,
   "id": "e1f3c201",
   "metadata": {
    "ExecuteTime": {
     "end_time": "2022-05-03T09:19:31.541789Z",
     "start_time": "2022-05-03T09:19:31.524774Z"
    }
   },
   "outputs": [],
   "source": [
    "#write to file\n",
    "spatial_analysis.to_csv(f'{newpath}/{testName}D3R1_place_cell_identity.csv', index=True)"
   ]
  },
  {
   "cell_type": "markdown",
   "id": "88496a01",
   "metadata": {},
   "source": [
    "# From here session 6"
   ]
  },
  {
   "cell_type": "code",
   "execution_count": null,
   "id": "18a8aacf",
   "metadata": {
    "ExecuteTime": {
     "end_time": "2022-05-03T09:19:33.248405Z",
     "start_time": "2022-05-03T09:19:33.022202Z"
    }
   },
   "outputs": [],
   "source": [
    "#read in the combined Ca imaging and behavioural data for one session, delete intermdiate data, rename speed column\n",
    "\n",
    "interpolated_data_for_session=pd.read_csv(os.path.join(path, Ca_data6))\n",
    "interpolated_data_for_session=interpolated_data_for_session.drop(['Unnamed: 0','Interpolated speed', 'x-velocity','y-velocity'], axis=1)\n",
    "interpolated_data_for_session=interpolated_data_for_session.rename({'Calculated speed': 'Speed'}, axis=1)\n",
    "interpolated_data_for_session"
   ]
  },
  {
   "cell_type": "code",
   "execution_count": null,
   "id": "694e3080",
   "metadata": {
    "ExecuteTime": {
     "end_time": "2022-05-03T09:19:33.706837Z",
     "start_time": "2022-05-03T09:19:33.637775Z"
    }
   },
   "outputs": [],
   "source": [
    "#prune data\n",
    "if pruning==1:\n",
    "    interpolated_data_for_session=prune(interpolated_data_for_session)\n",
    "interpolated_data_for_session "
   ]
  },
  {
   "cell_type": "code",
   "execution_count": null,
   "id": "62df86a6",
   "metadata": {
    "ExecuteTime": {
     "end_time": "2022-05-03T09:19:34.285790Z",
     "start_time": "2022-05-03T09:19:34.268774Z"
    }
   },
   "outputs": [],
   "source": [
    "N_cells=len(interpolated_data_for_session.columns)-5\n",
    "N_cells"
   ]
  },
  {
   "cell_type": "code",
   "execution_count": null,
   "id": "2eab73eb",
   "metadata": {
    "ExecuteTime": {
     "end_time": "2022-05-03T09:19:34.866795Z",
     "start_time": "2022-05-03T09:19:34.844775Z"
    }
   },
   "outputs": [],
   "source": [
    "#calculate the overall occupancy per bin\n",
    "occupancy_time = pd.DataFrame(np.bincount(interpolated_data_for_session['Grid no.'], minlength = 257),columns = ['Freq visit'] )\n",
    "occupancy_time['Duration'] = occupancy_time*Delta_time\n",
    "occupancy_time=occupancy_time.drop([0])\n",
    "occupancy_time=occupancy_time.drop(['Freq visit'], axis=1)\n",
    "total_time = occupancy_time['Duration'].sum()\n",
    "bin_probability = occupancy_time['Duration'].div(total_time)\n",
    "\n",
    "occupancy_time"
   ]
  },
  {
   "cell_type": "code",
   "execution_count": null,
   "id": "2a228417",
   "metadata": {
    "ExecuteTime": {
     "end_time": "2022-05-03T09:19:35.437791Z",
     "start_time": "2022-05-03T09:19:35.420766Z"
    }
   },
   "outputs": [],
   "source": [
    "#calculate activity map and combine with duration data\n",
    "cell_activations_per_bin=activity_map(interpolated_data_for_session)"
   ]
  },
  {
   "cell_type": "code",
   "execution_count": null,
   "id": "90d0ccc9",
   "metadata": {
    "ExecuteTime": {
     "end_time": "2022-05-03T09:19:37.019077Z",
     "start_time": "2022-05-03T09:19:36.061205Z"
    }
   },
   "outputs": [],
   "source": [
    "#zero rows with occupancy numbers less than threshold\n",
    "n=0\n",
    "limit=len(cell_activations_per_bin.index)\n",
    "\n",
    "for i in range (0, limit):\n",
    "    if occupancy_time.iloc[i,0]<threshold_time:\n",
    "        n=n+1\n",
    "        for j in range (0, N_cells):\n",
    "            cell_activations_per_bin.iloc[i,j]=0\n",
    "\n",
    "print(n)\n"
   ]
  },
  {
   "cell_type": "code",
   "execution_count": null,
   "id": "bcfb0d67",
   "metadata": {
    "ExecuteTime": {
     "end_time": "2022-05-03T09:19:37.641834Z",
     "start_time": "2022-05-03T09:19:37.581779Z"
    }
   },
   "outputs": [],
   "source": [
    "true_bin_data=pd.concat([occupancy_time, cell_activations_per_bin], axis=1).fillna(0)\n",
    "true_bin_data"
   ]
  },
  {
   "cell_type": "code",
   "execution_count": null,
   "id": "00ae30d3",
   "metadata": {
    "ExecuteTime": {
     "end_time": "2022-05-03T09:19:38.330802Z",
     "start_time": "2022-05-03T09:19:38.308782Z"
    }
   },
   "outputs": [],
   "source": [
    "#calculate the true spatial infomation for the cells\n",
    "true_spatial_information=spatial_info(true_bin_data)\n",
    "true_spatial_information"
   ]
  },
  {
   "cell_type": "code",
   "execution_count": null,
   "id": "b4c873e7",
   "metadata": {
    "ExecuteTime": {
     "end_time": "2022-05-03T09:19:39.116824Z",
     "start_time": "2022-05-03T09:19:39.076788Z"
    }
   },
   "outputs": [],
   "source": [
    "#Next, the spatial information for the shuffles is calculated\n",
    "\n",
    "shuffled_raw_data=shuffle(interpolated_data_for_session)\n",
    "if pruning==1:\n",
    "    shuffled_raw_data=prune(shuffled_raw_data)\n",
    "shuffled_activations_per_bin=activity_map(shuffled_raw_data)\n",
    "shuffled_bin_data=pd.concat([occupancy_time, shuffled_activations_per_bin], axis=1).fillna(0)\n",
    "shuffled_spatial_information=spatial_info(shuffled_bin_data)\n",
    "\n",
    "shuffled_spatial_information_df=shuffled_spatial_information\n",
    "\n",
    "shuffled_spatial_information_df"
   ]
  },
  {
   "cell_type": "code",
   "execution_count": null,
   "id": "76037da1",
   "metadata": {
    "ExecuteTime": {
     "end_time": "2022-05-03T09:20:48.024373Z",
     "start_time": "2022-05-03T09:19:39.822226Z"
    }
   },
   "outputs": [],
   "source": [
    "for i in range (No_shuffles):\n",
    "    shuffled_raw_data=shuffle(interpolated_data_for_session)\n",
    "    if pruning==1:\n",
    "        shuffled_raw_data=prune(shuffled_raw_data)\n",
    "    shuffled_activations_per_bin=activity_map(shuffled_raw_data)\n",
    "    shuffled_bin_data=pd.concat([occupancy_time, shuffled_activations_per_bin], axis=1).fillna(0)\n",
    "    shuffled_spatial_information=spatial_info(shuffled_bin_data)\n",
    "    \n",
    "    shuffled_spatial_information_df=pd.concat([shuffled_spatial_information_df, shuffled_spatial_information], axis=1)\n",
    "\n",
    "shuffled_spatial_information_df"
   ]
  },
  {
   "cell_type": "code",
   "execution_count": null,
   "id": "4839b8da",
   "metadata": {
    "ExecuteTime": {
     "end_time": "2022-05-03T09:22:55.023558Z",
     "start_time": "2022-05-03T09:22:54.933476Z"
    }
   },
   "outputs": [],
   "source": [
    "#sort them in order\n",
    "shuffled_spatial_information_df.values.sort()\n",
    "shuffled_spatial_information_df"
   ]
  },
  {
   "cell_type": "code",
   "execution_count": null,
   "id": "43cc39f3",
   "metadata": {
    "ExecuteTime": {
     "end_time": "2022-05-03T09:22:55.950121Z",
     "start_time": "2022-05-03T09:22:55.942115Z"
    }
   },
   "outputs": [],
   "source": [
    "#what is the n% top value for each cell?\n",
    "special_index=np.floor(No_shuffles*(100-Spat_inf_thresh)/100)\n",
    "special_index=int(special_index)\n",
    "spatial_info_value_to_beat=shuffled_spatial_information_df.iloc[:,special_index]\n",
    "spatial_info_value_to_beat"
   ]
  },
  {
   "cell_type": "code",
   "execution_count": null,
   "id": "21dc5ba3",
   "metadata": {
    "ExecuteTime": {
     "end_time": "2022-05-03T09:22:56.700240Z",
     "start_time": "2022-05-03T09:22:56.678220Z"
    }
   },
   "outputs": [],
   "source": [
    "#calculate difference between spatial info and the top n% value\n",
    "spatial_analysis=pd.concat([true_spatial_information.rename('Spatial info'), spatial_info_value_to_beat.rename('Shuffled spatial info')], axis=1)\n",
    "spatial_analysis['Difference']=spatial_analysis['Spatial info']-spatial_analysis['Shuffled spatial info']\n",
    "spatial_analysis"
   ]
  },
  {
   "cell_type": "code",
   "execution_count": null,
   "id": "fb7b3f56",
   "metadata": {
    "ExecuteTime": {
     "end_time": "2022-05-03T09:22:57.494914Z",
     "start_time": "2022-05-03T09:22:57.485920Z"
    }
   },
   "outputs": [],
   "source": [
    "Eventcount_threthold = total_time#/60#EventCount_Threthold\n",
    "Eventcount_threthold"
   ]
  },
  {
   "cell_type": "code",
   "execution_count": null,
   "id": "7a717a62",
   "metadata": {
    "ExecuteTime": {
     "end_time": "2022-05-03T09:22:58.385435Z",
     "start_time": "2022-05-03T09:22:58.374428Z"
    }
   },
   "outputs": [],
   "source": [
    "def place_cell (row):\n",
    "    if row['Difference']>0:\n",
    "        return 'Place cell'\n",
    "    else:\n",
    "        return 'Not place cell'"
   ]
  },
  {
   "cell_type": "code",
   "execution_count": null,
   "id": "de36810e",
   "metadata": {
    "ExecuteTime": {
     "end_time": "2022-05-03T09:22:59.064020Z",
     "start_time": "2022-05-03T09:22:59.046003Z"
    }
   },
   "outputs": [],
   "source": [
    "spatial_analysis['Place cell?'] = spatial_analysis.apply(place_cell, axis=1)\n",
    "spatial_analysis=spatial_analysis.drop(['Difference'], axis=1)\n",
    "spatial_analysis"
   ]
  },
  {
   "cell_type": "code",
   "execution_count": null,
   "id": "38bf6905",
   "metadata": {
    "ExecuteTime": {
     "end_time": "2022-05-03T09:22:59.732664Z",
     "start_time": "2022-05-03T09:22:59.725657Z"
    }
   },
   "outputs": [],
   "source": [
    "#write to file\n",
    "spatial_analysis.to_csv(f'{newpath}/{testName}D3R2_place_cell_identity.csv', index=True)"
   ]
  },
  {
   "cell_type": "code",
   "execution_count": null,
   "id": "e7ac53e4",
   "metadata": {},
   "outputs": [],
   "source": []
  },
  {
   "cell_type": "code",
   "execution_count": null,
   "id": "5af09a43",
   "metadata": {},
   "outputs": [],
   "source": []
  }
 ],
 "metadata": {
  "kernelspec": {
   "display_name": "Python 3 (ipykernel)",
   "language": "python",
   "name": "python3"
  },
  "language_info": {
   "codemirror_mode": {
    "name": "ipython",
    "version": 3
   },
   "file_extension": ".py",
   "mimetype": "text/x-python",
   "name": "python",
   "nbconvert_exporter": "python",
   "pygments_lexer": "ipython3",
   "version": "3.9.7"
  },
  "toc": {
   "base_numbering": 1,
   "nav_menu": {},
   "number_sections": true,
   "sideBar": true,
   "skip_h1_title": false,
   "title_cell": "Table of Contents",
   "title_sidebar": "Contents",
   "toc_cell": false,
   "toc_position": {},
   "toc_section_display": true,
   "toc_window_display": true
  }
 },
 "nbformat": 4,
 "nbformat_minor": 5
}
