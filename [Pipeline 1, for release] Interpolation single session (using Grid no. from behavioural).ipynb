{
 "cells": [
  {
   "cell_type": "code",
   "execution_count": null,
   "id": "facf2e82",
   "metadata": {},
   "outputs": [],
   "source": [
    "#The Ca imaging data and behavioural data are captured at differnt rates\n",
    "#Consequently, the data need to be aligned, and missing values interpolated\n",
    "#This program takes the raw Ca and behavioural data for a single session \n",
    "#It interpolates behavioural data values for the session at the Ca imaging times"
   ]
  },
  {
   "cell_type": "code",
   "execution_count": null,
   "id": "80dbb81c",
   "metadata": {
    "ExecuteTime": {
     "start_time": "2023-01-10T16:13:03.169Z"
    }
   },
   "outputs": [],
   "source": [
    "#importing libraries\n",
    "import pandas as pd\n",
    "import numpy as np\n",
    "import os\n",
    "from scipy.interpolate import interp1d \n",
    "import math"
   ]
  },
  {
   "cell_type": "code",
   "execution_count": null,
   "id": "33464fff",
   "metadata": {
    "ExecuteTime": {
     "start_time": "2023-01-10T16:13:05.858Z"
    }
   },
   "outputs": [],
   "source": [
    "#define variables\n",
    "\n",
    "#Start and end points of the Ca imaging data (Excel cell index numbers)\n",
    "Ca_start=2\n",
    "Ca_end=24008"
   ]
  },
  {
   "cell_type": "code",
   "execution_count": null,
   "id": "a569d30f",
   "metadata": {
    "ExecuteTime": {
     "start_time": "2023-01-10T16:13:06.698Z"
    }
   },
   "outputs": [],
   "source": [
    "#define filenames\n",
    "#these are the folder paths\n",
    "path='/Users/insert_file_path_here'\n",
    "folder='insert_mouse_folder_here'\n",
    "\n",
    "#raw beahvioural data filename\n",
    "raw_behavioural_one= 'insert_behavioural_data_filename_here.xlsx'\n",
    "\n",
    "#raw calcium data filename\n",
    "raw_Ca='insert_Ca_data_filename_here.csv'\n",
    "\n",
    "#ouput folder name\n",
    "newpath = path + folder+ r'/ProcessedData'\n" 
    "if not os.path.exists(newpath):\n",
        "os.makedirs(newpath)\n",
    "\n",
    "#out file filename\n",
    "output_file='insert_output_filename_here.csv'\n"
   ]
  },
  {
   "cell_type": "code",
   "execution_count": null,
   "id": "524a0c81",
   "metadata": {
    "ExecuteTime": {
     "start_time": "2023-01-10T16:13:06.994Z"
    }
   },
   "outputs": [],
   "source": [
    "#read in raw behavioural data for  session \n",
    "\n",
    "raw_behavioural_data_raw=pd.read_excel(os.path.join(path, folder, raw_behavioural_one),\n",
    "                                               skiprows=[1])"
   ]
  },
  {
   "cell_type": "code",
   "execution_count": null,
   "id": "9a4cfe0b",
   "metadata": {
    "ExecuteTime": {
     "start_time": "2023-01-10T16:13:07.202Z"
    }
   },
   "outputs": [],
   "source": [
    "#clean up  data\n",
    "raw_behavioural_data=raw_behavioural_data_raw.replace(['-'],'0') #replaces - with 0 in dataframe to correct missing speeds\n",
    "\n",
    "#check length is as expected\n",
    "len(raw_behavioural_data.index)"
   ]
  },
  {
   "cell_type": "code",
   "execution_count": null,
   "id": "384b099c",
   "metadata": {
    "ExecuteTime": {
     "start_time": "2023-01-10T16:13:07.386Z"
    }
   },
   "outputs": [],
   "source": [
    "#read in Ca data for session\n",
    "#correct start and end point to account for different indexing\n",
    "start_session=Ca_start-1\n",
    "end_session=Ca_end-1\n",
    "\n",
    "#read in Ca data and reindex\n",
    "raw_calcium_data=pd.read_csv(os.path.join(path, folder, raw_Ca), \n",
    "                                         nrows=end_session)\n",
    "raw_calcium_data=raw_calcium_data.drop(raw_calcium_data.index[0:start_session-1])\n",
    "raw_calcium_data=raw_calcium_data.reset_index(drop=True)\n",
    "\n",
    "#check length of Ca data is as expected\n",
    "len(raw_calcium_data.index)"
   ]
  },
  {
   "cell_type": "code",
   "execution_count": null,
   "id": "110f937c",
   "metadata": {
    "ExecuteTime": {
     "start_time": "2023-01-10T16:13:07.562Z"
    }
   },
   "outputs": [],
   "source": [
    "#align start times (by subtracting the initial time of the Ca imaging data from its Trial times)\n",
    "t_start=raw_calcium_data.iloc[0]['Time (s)'] #get start time of session\n",
    "raw_calcium_data['Time (s)']-=t_start        #subtract start time from all times so the session starts from t=0\n",
    "\n",
    "#check start time to make sure it matches raw data file\n",
    "t_start"
   ]
  },
  {
   "cell_type": "code",
   "execution_count": null,
   "id": "7387bbf0",
   "metadata": {
    "ExecuteTime": {
     "start_time": "2023-01-10T16:13:07.797Z"
    }
   },
   "outputs": [],
   "source": [
    "#check raw Ca data looks as expected\n",
    "raw_calcium_data"
   ]
  },
  {
   "cell_type": "code",
   "execution_count": null,
   "id": "5f5c059c",
   "metadata": {
    "ExecuteTime": {
     "start_time": "2023-01-10T16:13:07.963Z"
    }
   },
   "outputs": [],
   "source": [
    "#check raw behavioural data looks as expected\n",
    "raw_behavioural_data"
   ]
  },
  {
   "cell_type": "code",
   "execution_count": null,
   "id": "d108b8a9",
   "metadata": {
    "ExecuteTime": {
     "start_time": "2023-01-10T16:13:08.138Z"
    }
   },
   "outputs": [],
   "source": [
    "#adjustments to make sure the Ca imaging data ends before the behavioural data for interolation\n",
    "behavioural_end_time=raw_behavioural_data['Trial time'].max()\n",
    "raw_calcium_data=raw_calcium_data.drop(raw_calcium_data[raw_calcium_data['Time (s)']>behavioural_end_time].index)\n",
    "length_Ca_data=len(raw_calcium_data)\n",
    "\n",
    "#check length of updated Ca data\n",
    "length_Ca_data"
   ]
  },
  {
   "cell_type": "code",
   "execution_count": null,
   "id": "dd0e4772",
   "metadata": {
    "ExecuteTime": {
     "start_time": "2023-01-10T16:13:08.338Z"
    }
   },
   "outputs": [],
   "source": [
    "#determined timestep in behavioural data\n",
    "behavioural_length=len(raw_behavioural_data.index)\n",
    "Delta_t_behavioural=(raw_behavioural_data['Trial time'][behavioural_length-1])/behavioural_length\n",
    "Delta_t_behavioural"
   ]
  },
  {
   "cell_type": "code",
   "execution_count": null,
   "id": "a70a8cc8",
   "metadata": {
    "ExecuteTime": {
     "start_time": "2023-01-10T16:13:08.506Z"
    }
   },
   "outputs": [],
   "source": [
    "#get the grid cell data from the raw beahvioural data\n",
    "grid_data_raw=raw_behavioural_data.drop(['Trial time','Recording time', 'X center','Y center', 'Area', 'Areachange', 'Elongation', 'Distance moved', 'Velocity', 'Mobility'], axis=1)\n",
    "grid_data_raw=grid_data_raw.drop(['Mobility state(Mobile)','Mobility state(Immobile)', 'Movement(Moving / Center-point)', 'Movement(Not Moving / Center-point)'], axis=1)\n",
    "grid_data_raw = grid_data_raw.iloc[: , :-1]\n",
    "#grid_data_raw=grid_data_raw.drop(['MC4'], axis=1)\n",
    "grid_data_raw=grid_data_raw.reset_index(drop=True).T.reset_index(drop=True).T\n",
    "\n",
    "#check raw grid data is as expected\n",
    "grid_data_raw"
   ]
  },
  {
   "cell_type": "code",
   "execution_count": null,
   "id": "7e619550",
   "metadata": {
    "ExecuteTime": {
     "start_time": "2023-01-10T16:13:08.914Z"
    }
   },
   "outputs": [],
   "source": [
    "#get the grid cell at each time from the raw ones and zeros of the behavioural data\n",
    "grid_data_behavioural=grid_data_raw.idxmax(axis=1)\n",
    "grid_data_behavioural=grid_data_behavioural.to_frame()\n",
    "grid_data_behavioural=grid_data_behavioural.rename(columns={0:'Grid no.'})\n",
    "grid_data_behavioural=grid_data_behavioural+1\n",
    "grid_data_behavioural"
   ]
  },
  {
   "cell_type": "code",
   "execution_count": null,
   "id": "a6f1fbda",
   "metadata": {
    "ExecuteTime": {
     "start_time": "2023-01-10T16:13:09.122Z"
    }
   },
   "outputs": [],
   "source": [
    "#interpolate behavioural data for session (positions, speeds and grid locations)\n",
    "\n",
    "#set up interpolation functions\n",
    "behavioural_times=raw_behavioural_data['Trial time'] #extract the behavioural data time points\n",
    "behavioural_x_positions=raw_behavioural_data['X center'] #extract the behavioural data x-positions points\n",
    "behavioural_y_positions=raw_behavioural_data['Y center'] #extract the behavioural data y-positions points\n",
    "behavioural_speeds=raw_behavioural_data['Velocity'] #extract the behavioural data y-positions points\n",
    "\n",
    "x_center_interp = interp1d(behavioural_times, behavioural_x_positions) #define x interploation function\n",
    "y_center_interp = interp1d(behavioural_times, behavioural_y_positions) #define y interpolation function \n",
    "speed_interp= interp1d(behavioural_times, behavioural_speeds) #define speed interpolation function\n",
    "\n",
    "#create empty lists for x and y positions, speed and grid no.\n",
    "\n",
    "time=[]\n",
    "x_positions=[]\n",
    "y_positions=[]\n",
    "speed=[]\n",
    "grid=[]\n",
    "\n",
    "#interpolate the x and y positions and speeds at the Ca imaging times and determine gridcells at those times\n",
    "for i in range(length_Ca_data):\n",
    "    interpolation_time=raw_calcium_data['Time (s)'][i] #get the time for this iteration\n",
    "    \n",
    "    #interpolate values\n",
    "    interpolated_x_value=x_center_interp(interpolation_time) #interpolate the x value\n",
    "    interpolated_y_value=y_center_interp(interpolation_time) #interpolate the y value\n",
    "    interpolated_speed_value=speed_interp(interpolation_time)#interpolate the speed value\n",
    "    \n",
    "    #calculate gridcell\n",
    "    grid_index=abs(raw_behavioural_data['Trial time'] - interpolation_time).idxmin()\n",
    "    grid_square=grid_data_behavioural['Grid no.'][grid_index]\n",
    "        \n",
    "    #update lists\n",
    "    time.append(interpolation_time)          #add time to timelist\n",
    "    x_positions.append(interpolated_x_value) #add interpolated x values to x list\n",
    "    y_positions.append(interpolated_y_value) #add interpolated y values to y list\n",
    "    speed.append(interpolated_speed_value)   #add interpolated y values to y list\n",
    "    grid.append(grid_square)                 #add grid no. to grid list\n",
    "\n",
    "#check length of data is as expected    \n",
    "len(grid)"
   ]
  },
  {
   "cell_type": "code",
   "execution_count": null,
   "id": "28f6f8b4",
   "metadata": {
    "ExecuteTime": {
     "start_time": "2023-01-10T16:13:09.362Z"
    }
   },
   "outputs": [],
   "source": [
    "#calculate the speed from the interpolated x and y positions for session\n",
    "#More accurate than interpolateed speed above\n",
    "\n",
    "#define time between samples (i.e. the time between each Ca imaging sample)\n",
    "delta_time=time[1]\n",
    "\n",
    "#create list with speed for t=0\n",
    "initial_x_velocity=(x_positions[1]-x_positions[0])/(delta_time)\n",
    "initial_y_velocity=(y_positions[1]-y_positions[0])/(delta_time)\n",
    "initial_speed=math.sqrt(initial_x_velocity*initial_x_velocity+initial_y_velocity*initial_y_velocity)\n",
    "\n",
    "calculated_speed=[initial_speed]\n",
    "x_velocity=[initial_x_velocity]\n",
    "y_velocity=[initial_y_velocity]\n",
    "\n",
    "#calculate speeds up to penultimate time step\n",
    "for i in range(1, length_Ca_data-1):\n",
    "    \n",
    "    #calculate x and y velocities\n",
    "    velocity_x=(x_positions[i+1]-x_positions[i-1])/(2*delta_time)\n",
    "    velocity_y=(y_positions[i+1]-y_positions[i-1])/(2*delta_time)\n",
    "    \n",
    "    #calculate speed\n",
    "    mod_velocity=math.sqrt(velocity_x*velocity_x+velocity_y*velocity_y)\n",
    "    \n",
    "    #update lists\n",
    "    x_velocity.append(velocity_x)\n",
    "    y_velocity.append(velocity_y)\n",
    "    calculated_speed.append(mod_velocity)\n",
    "\n",
    "#calculate final speed\n",
    "i=length_Ca_data-1\n",
    "velocity_x=(x_positions[i]-x_positions[i-1])/(delta_time)\n",
    "velocity_y=(y_positions[i]-y_positions[i-1])/(delta_time)\n",
    "mod_velocity=math.sqrt(velocity_x*velocity_x+velocity_y*velocity_y)\n",
    "x_velocity.append(velocity_x)\n",
    "y_velocity.append(velocity_y)\n",
    "calculated_speed.append(mod_velocity)\n",
    "\n",
    "#check length of speed list\n",
    "len(calculated_speed)   "
   ]
  },
  {
   "cell_type": "code",
   "execution_count": null,
   "id": "ec068aa6",
   "metadata": {
    "ExecuteTime": {
     "start_time": "2023-01-10T16:13:09.593Z"
    }
   },
   "outputs": [],
   "source": [
    "#combines the interpolated data and the raw Ca Imaging data for session and writes to file\n",
    "\n",
    "#create a dataframe of the interpolated poistions from the lists\n",
    "\n",
    "interpolated_positions=pd.DataFrame(list(zip(time, x_positions, y_positions, speed, x_velocity, y_velocity, calculated_speed, grid)),\n",
    "                 columns = ['Time','X center','Y center', 'Interpolated speed', 'x-velocity', 'y-velocity', 'Calculated speed', 'Grid no.'])\n",
    "\n",
    "#combine the interpolated positions, interpolated speed and grid no.s with the Ca image data\n",
    "interpolated_data=pd.concat([interpolated_positions, raw_calcium_data.drop(\"Time (s)\", axis=1)], axis = 1)\n",
    "\n",
    "#write to file\n",
    "interpolated_data.to_csv(os.path.join(path, folder, output_file))\n"
   ]
  },
  {
   "cell_type": "code",
   "execution_count": null,
   "id": "40824846",
   "metadata": {
    "ExecuteTime": {
     "start_time": "2023-01-10T16:13:09.811Z"
    }
   },
   "outputs": [],
   "source": [
    "#check interpolated dataframe is as expected\n",
    "interpolated_data"
   ]
  },
  {
   "cell_type": "code",
   "execution_count": null,
   "id": "f2e2791b",
   "metadata": {},
   "outputs": [],
   "source": []
  },
  {
   "cell_type": "code",
   "execution_count": null,
   "id": "144a3b00",
   "metadata": {},
   "outputs": [],
   "source": []
  }
 ],
 "metadata": {
  "kernelspec": {
   "display_name": "Python 3 (ipykernel)",
   "language": "python",
   "name": "python3"
  },
  "language_info": {
   "codemirror_mode": {
    "name": "ipython",
    "version": 3
   },
   "file_extension": ".py",
   "mimetype": "text/x-python",
   "name": "python",
   "nbconvert_exporter": "python",
   "pygments_lexer": "ipython3",
   "version": "3.9.7"
  },
  "toc": {
   "base_numbering": 1,
   "nav_menu": {},
   "number_sections": true,
   "sideBar": true,
   "skip_h1_title": false,
   "title_cell": "Table of Contents",
   "title_sidebar": "Contents",
   "toc_cell": false,
   "toc_position": {},
   "toc_section_display": true,
   "toc_window_display": false
  }
 },
 "nbformat": 4,
 "nbformat_minor": 5
}
