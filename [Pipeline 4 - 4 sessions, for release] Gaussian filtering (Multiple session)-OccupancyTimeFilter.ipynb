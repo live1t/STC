{
 "cells": [
  {
   "cell_type": "code",
   "execution_count": null,
   "id": "b3a43c78",
   "metadata": {},
   "outputs": [],
   "source": [
    "#This program generates Gaussian filtered ratemaps for each cell for a session\n",
    "#The input is the interpolated data from the interpolation program\n",
    "#The output is a Gaussian filtered ratemap for every cell in the session\n",
    "#It also plots one cell!"
   ]
  },
  {
   "cell_type": "code",
   "execution_count": null,
   "id": "0dd1f5bc",
   "metadata": {},
   "outputs": [],
   "source": [
    "#importing libraries\n",
    "import pandas as pd\n",
    "import numpy as np\n",
    "import os\n",
    "import math\n",
    "from scipy.special import erf\n",
    "from scipy import signal\n",
    "import matplotlib.pyplot as plt\n",
    "from scipy.ndimage.filters import gaussian_filter\n",
    "\n",
    "#this is the location of the csv file of the combined Ca imaging and behavioural data for the session\n",
    "path= r'/Users/insert_file_path_here'\n",
    "Ca_data='session1_interpolated_data_filename.csv'\n",
    "Ca_data2='session2_interpolated_data_filename.csv'\n",
    "Ca_data3='session3_interpolated_data_filename.csv'\n",
    "Ca_data4='session4_interpolated_data_filename.csv'\n",
    "\n",
    "#ouput file name\n",
    "newpath = path + r'/output_filename' \n",
    "if not os.path.exists(newpath):\n",
    "    os.makedirs(newpath)\n",
    "testName = 'Insert_Mouse_ID_here'"
   ]
  },
  {
   "cell_type": "markdown",
   "id": "4f05d9d1",
   "metadata": {},
   "source": [
    "### Need to change \"threshold_time\"/\"Speed\"/\"Spike_Threthold\" depending on parameters you applied on place cell identification"
   ]
  },
  {
   "cell_type": "code",
   "execution_count": null,
   "id": "6f2ab5b8",
   "metadata": {},
   "outputs": [],
   "source": [
    "#define variables and file locations\n",
    "\n",
    "#Gaussian standadrd deviation in grid squares; \n",
    "Std_dev=2 #bins not cm\n",
    "\n",
    "#Timestep size\n",
    "Delta_time=0.049962\n",
    "\n",
    "#define number of cells detected (ignore - replaced later)\n",
    "N_cells=700\n",
    "\n",
    "#define number of bins/gridcells\n",
    "Gridcells_x=16\n",
    "Gridcells_y=16\n",
    "N_bins=Gridcells_x*Gridcells_y\n",
    "\n",
    "#defines whether the data is pruned to remove the times the mouse doesn't move (1=pruning on, 0=pruning off)\n",
    "pruning =1\n",
    "#IF using amplitude rather than event for rate activity,\n",
    "amplitude = 0\n",
    "\n",
    "#defines the threshold for counting events\n",
    "Spike_threshold=5\n",
    "\n",
    "#defines the threshold velocity for pruning \n",
    "#if the velocity os below this, it is pruned when pruning = True\n",
    "speed_velocity = 1\n",
    "#if the velocity is below this, it is pruned when pruning = True\n",
    "Threshold_velocity=0.01\n",
    "\n",
    "#threshold time in grid square (set to zero when speed thresholding is used)\n",
    "#if the time in a grid square is below this, the activity in teh grid square is zeroed \n",
    "threshold_time=0\n",
    "\n",
    "\n",
    "#defines the threshold velocity for pruning (in m/s?)\n",
    "#If using n% of average speed,\n",
    "average_speed = 0\n",
    "speed_fraction=0.1"
   ]
  },
  {
   "cell_type": "markdown",
   "id": "4cefa3a1",
   "metadata": {},
   "source": [
    "# function definitions begin here"
   ]
  },
  {
   "cell_type": "code",
   "execution_count": null,
   "id": "1cfb358d",
   "metadata": {},
   "outputs": [],
   "source": [
    "#defines the activity map function. \n",
    "#Takes as input raw cell and behaioural data, outputs the activity per bin per cell\n",
    "def activity_map(input_df):\n",
    "    df=input_df.drop(['Time','X center','Y center','Speed'], axis=1)\n",
    "    df=df[df>0].groupby('Grid no.').count()\n",
    "    return(df)"
   ]
  },
  {
   "cell_type": "code",
   "execution_count": null,
   "id": "6b2646e5",
   "metadata": {},
   "outputs": [],
   "source": [
    "#alternative for summing amplitudes\n",
    "if amplitude ==1:\n",
    "    def activity_map(input_df):\n",
    "        df=input_df.drop(['Time','X center','Y center','Speed'], axis=1)\n",
    "        df=df[df>0].groupby('Grid no.').sum()\n",
    "        return(df)"
   ]
  },
  {
   "cell_type": "code",
   "execution_count": null,
   "id": "b9d1df84",
   "metadata": {},
   "outputs": [],
   "source": [
    "#define velocity pruning function \n",
    "#prunes data with velocity less than threshold velocity from the input data\n",
    "#prunes spikes with an amplitude less than spike threshold\n",
    "if speed_velocity==1:\n",
    "    def prune (df):\n",
    "        #prune non-moving times\n",
    "        pruned_velocity=df.drop(df[df.Speed < Threshold_velocity].index).reset_index(drop=True)\n",
    "        #set spikes with size less than a threshold to zero  \n",
    "        cell_data_only=pruned_velocity.iloc[:,5:N_cells+5] #get cell data only\n",
    "        behavioural_data_only=pruned_velocity.iloc[:,0:5] #get behavioural data only\n",
    "        cell_data_only=cell_data_only.mask(cell_data_only<Spike_threshold, 0) #mask cell data\n",
    "        pruned_data=pd.concat([behavioural_data_only, cell_data_only], axis = 1) #recombine\n",
    "        \n",
    "        return(pruned_data)"
   ]
  },
  {
   "cell_type": "code",
   "execution_count": null,
   "id": "c0cde13c",
   "metadata": {},
   "outputs": [],
   "source": [
    "#define velocity pruning function by using average speed \n",
    "#prunes data with velocity less than threshold velocity from the input data\n",
    "#prunes spikes with an amplitude less than spike threshold\n",
    "if average_speed==1:\n",
    "    def prune (df):\n",
    "        average_speed= df['Speed'].mean()\n",
    "        thresh_speed=average_speed*speed_fraction\n",
    "        pruned_velocity=df.drop(df[df.Speed < thresh_speed].index).reset_index(drop=True)\n",
    "        #set spikes with size less than a threshold to zero  \n",
    "        cell_data_only=pruned_velocity.iloc[:,5:N_cells+5] #get cell data only\n",
    "        behavioural_data_only=pruned_velocity.iloc[:,0:5] #get behavioural data only\n",
    "        cell_data_only=cell_data_only.mask(cell_data_only<Spike_threshold, 0) #mask cell data\n",
    "        pruned_data=pd.concat([behavioural_data_only, cell_data_only], axis = 1) #recombine\n",
    "        \n",
    "        return(pruned_data)"
   ]
  },
  {
   "cell_type": "markdown",
   "id": "e9d539c3",
   "metadata": {},
   "source": [
    "# main program begins here with session 1"
   ]
  },
  {
   "cell_type": "code",
   "execution_count": null,
   "id": "be6fab6a",
   "metadata": {},
   "outputs": [],
   "source": [
    "#read in the combined Ca imaging and behavioural data for one session, delete intermdiate data, rename speed column\n",
    "\n",
    "interpolated_data_for_session=pd.read_csv(os.path.join(path, Ca_data))\n",
    "interpolated_data_for_session=interpolated_data_for_session.drop(['Unnamed: 0','Interpolated speed', 'x-velocity','y-velocity'], axis=1)\n",
    "interpolated_data_for_session=interpolated_data_for_session.rename({'Calculated speed': 'Speed'}, axis=1)\n",
    "interpolated_data_for_session"
   ]
  },
  {
   "cell_type": "code",
   "execution_count": null,
   "id": "6624daea",
   "metadata": {},
   "outputs": [],
   "source": [
    "#prune data, is pruning variable is set\n",
    "if pruning ==1:\n",
    "    interpolated_data_for_session=prune(interpolated_data_for_session)\n",
    "interpolated_data_for_session"
   ]
  },
  {
   "cell_type": "code",
   "execution_count": null,
   "id": "3073e187",
   "metadata": {},
   "outputs": [],
   "source": [
    "#determine number of cells detected\n",
    "N_cells=len(interpolated_data_for_session.columns)-5\n",
    "N_cells"
   ]
  },
  {
   "cell_type": "code",
   "execution_count": null,
   "id": "fdc78d15",
   "metadata": {},
   "outputs": [],
   "source": [
    "#calculate the overall occupancy time per bin and probability of being in each bin\n",
    "occupancy_time = pd.DataFrame(np.bincount(interpolated_data_for_session['Grid no.'], minlength = 257),columns = ['Freq visit'] )\n",
    "occupancy_time['Duration'] = occupancy_time*Delta_time\n",
    "occupancy_time=occupancy_time.drop([0])\n",
    "occupancy_time=occupancy_time.drop(['Freq visit'], axis=1)\n",
    "total_time = occupancy_time['Duration'].sum()\n",
    "bin_probability = occupancy_time['Duration'].div(total_time)\n",
    "\n",
    "occupancy_time"
   ]
  },
  {
   "cell_type": "code",
   "execution_count": null,
   "id": "f9af3626",
   "metadata": {},
   "outputs": [],
   "source": [
    "#calculate activity map \n",
    "cell_activations_per_bin=activity_map(interpolated_data_for_session)\n",
    "cell_activations_per_bin"
   ]
  },
  {
   "cell_type": "code",
   "execution_count": null,
   "id": "eeb487d7",
   "metadata": {},
   "outputs": [],
   "source": [
    "#zero rows with occupancy numbers less than threshold\n",
    "n=0\n",
    "limit=len(cell_activations_per_bin.index)\n",
    "\n",
    "for i in range (0, limit):\n",
    "    if occupancy_time.iloc[i,0]<threshold_time:\n",
    "        n=n+1\n",
    "        for j in range (0, N_cells):\n",
    "            cell_activations_per_bin.iloc[i,j]=0\n",
    "\n",
    "print(n)"
   ]
  },
  {
   "cell_type": "code",
   "execution_count": null,
   "id": "731c5926",
   "metadata": {},
   "outputs": [],
   "source": [
    "#calulate raw rate map by dividing activity map by occupancy time\n",
    "rate_maps = cell_activations_per_bin.div(occupancy_time['Duration'], axis=0).fillna(0)\n",
    "rate_maps"
   ]
  },
  {
   "cell_type": "code",
   "execution_count": null,
   "id": "0d9f5425",
   "metadata": {},
   "outputs": [],
   "source": [
    "#write to file\n",
    "rate_maps.to_csv(f'{newpath}/{testName}D1S1_ratemaps.csv', index=True)"
   ]
  },
  {
   "cell_type": "code",
   "execution_count": null,
   "id": "c0c082e5",
   "metadata": {
    "scrolled": true
   },
   "outputs": [],
   "source": [
    "#Applies a gaussian filter to the rate map\n",
    "\n",
    "#initialises the dataframe for the filtered ratemaps \n",
    "filtered_rate_map_df=pd.DataFrame(np.random.randint(0,256,size=(256, 1)), columns=['Delete'])\n",
    "\n",
    "#initialises the numpy array for individual ratemaps \n",
    "cell_rate_map=np.zeros((Gridcells_x,Gridcells_y))\n",
    "\n",
    "#Gaussian filters every column\n",
    "for column in rate_maps:\n",
    "    #the next two for loops convert the pandas column into a N by N numpy array of teh ratemap\n",
    "    for i in range(Gridcells_x):\n",
    "        for j in range(Gridcells_y):\n",
    "            index=i+16*j+1\n",
    "            cell_rate_map[j,i]=rate_maps.at[index,column]\n",
    "    filtered_rate_map=gaussian_filter(cell_rate_map, sigma=Std_dev) #applies Gaussian filter to the rate map\n",
    "    intermediate_array=filtered_rate_map.flatten() #flattens array\n",
    "    filtered_rate_map_column=pd.DataFrame(intermediate_array, columns=[column]) #converts array to pandas column\n",
    "    filtered_rate_map_df=pd.concat([filtered_rate_map_df, filtered_rate_map_column], axis=1) #concatenates the pandas column\n",
    "    \n",
    "filtered_rate_map_df=filtered_rate_map_df.drop(['Delete'], axis=1) #deletes the initialisation column\n",
    "\n",
    "filtered_rate_map_df"
   ]
  },
  {
   "cell_type": "code",
   "execution_count": null,
   "id": "bb0869b5",
   "metadata": {},
   "outputs": [],
   "source": [
    "#write filtered ratemap to file\n",
    "filtered_rate_map_df.to_csv(f'{newpath}/{testName}D1S1_gaussian_filtered_ratemaps.csv', index=True)"
   ]
  },
  {
   "cell_type": "markdown",
   "id": "02c107dc",
   "metadata": {},
   "source": [
    "# From here, session 2"
   ]
  },
  {
   "cell_type": "code",
   "execution_count": null,
   "id": "c782ba44",
   "metadata": {},
   "outputs": [],
   "source": [
    "#read in the combined Ca imaging and behavioural data for one session, delete intermdiate data, rename speed column\n",
    "\n",
    "interpolated_data_for_session=pd.read_csv(os.path.join(path, Ca_data2))\n",
    "interpolated_data_for_session=interpolated_data_for_session.drop(['Unnamed: 0','Interpolated speed', 'x-velocity','y-velocity'], axis=1)\n",
    "interpolated_data_for_session=interpolated_data_for_session.rename({'Calculated speed': 'Speed'}, axis=1)\n",
    "interpolated_data_for_session"
   ]
  },
  {
   "cell_type": "code",
   "execution_count": null,
   "id": "20a2e143",
   "metadata": {},
   "outputs": [],
   "source": [
    "#prune data, is pruning variable is set\n",
    "if pruning ==1:\n",
    "    interpolated_data_for_session=prune(interpolated_data_for_session)"
   ]
  },
  {
   "cell_type": "code",
   "execution_count": null,
   "id": "9b7069af",
   "metadata": {},
   "outputs": [],
   "source": [
    "N_cells=len(interpolated_data_for_session.columns)-5\n",
    "N_cells"
   ]
  },
  {
   "cell_type": "code",
   "execution_count": null,
   "id": "5732aaf1",
   "metadata": {},
   "outputs": [],
   "source": [
    "#calculate the overall occupancy per bin\n",
    "occupancy_time = pd.DataFrame(np.bincount(interpolated_data_for_session['Grid no.'], minlength = 257),columns = ['Freq visit'] )\n",
    "occupancy_time['Duration'] = occupancy_time*Delta_time\n",
    "occupancy_time=occupancy_time.drop([0])\n",
    "occupancy_time=occupancy_time.drop(['Freq visit'], axis=1)\n",
    "total_time = occupancy_time['Duration'].sum()\n",
    "bin_probability = occupancy_time['Duration'].div(total_time)\n",
    "\n",
    "occupancy_time"
   ]
  },
  {
   "cell_type": "code",
   "execution_count": null,
   "id": "3615e068",
   "metadata": {},
   "outputs": [],
   "source": [
    "#calculate activity map \n",
    "cell_activations_per_bin=activity_map(interpolated_data_for_session)\n",
    "cell_activations_per_bin"
   ]
  },
  {
   "cell_type": "code",
   "execution_count": null,
   "id": "d7c0c5dd",
   "metadata": {},
   "outputs": [],
   "source": [
    "#zero rows with occupancy numbers less than threshold\n",
    "n=0\n",
    "limit=len(cell_activations_per_bin.index)\n",
    "\n",
    "for i in range (0, limit):\n",
    "    if occupancy_time.iloc[i,0]<threshold_time:\n",
    "        n=n+1\n",
    "        for j in range (0, N_cells):\n",
    "            cell_activations_per_bin.iloc[i,j]=0\n",
    "\n",
    "print(n)"
   ]
  },
  {
   "cell_type": "code",
   "execution_count": null,
   "id": "62be573f",
   "metadata": {},
   "outputs": [],
   "source": [
    "#calulate rate map by dividing activity map by occupancy time\n",
    "rate_maps = cell_activations_per_bin.div(occupancy_time['Duration'], axis=0).fillna(0)\n",
    "rate_maps"
   ]
  },
  {
   "cell_type": "code",
   "execution_count": null,
   "id": "5f77853f",
   "metadata": {},
   "outputs": [],
   "source": [
    "#write to file\n",
    "rate_maps.to_csv(f'{newpath}/{testName}D1S2_ratemaps.csv', index=True)"
   ]
  },
  {
   "cell_type": "code",
   "execution_count": null,
   "id": "2d44a440",
   "metadata": {},
   "outputs": [],
   "source": [
    "#Applies a gaussian filter to the rate map\n",
    "\n",
    "#initialises the dataframe for the filtered ratemaps \n",
    "filtered_rate_map_df=pd.DataFrame(np.random.randint(0,256,size=(256, 1)), columns=['Delete'])\n",
    "\n",
    "#initialises the numpy array for individual ratemaps \n",
    "cell_rate_map=np.zeros((Gridcells_x,Gridcells_y))\n",
    "\n",
    "#Gaussian filters every column\n",
    "for column in rate_maps:\n",
    "    #the next two for loops convert the pandas column into a N by N numpy array of teh ratemap\n",
    "    for i in range(Gridcells_x):\n",
    "        for j in range(Gridcells_y):\n",
    "            index=i+16*j+1\n",
    "            cell_rate_map[j,i]=rate_maps.at[index,column]\n",
    "    filtered_rate_map=gaussian_filter(cell_rate_map, sigma=Std_dev) #applies Gaussian filter to the rate map\n",
    "    intermediate_array=filtered_rate_map.flatten() #flattens array\n",
    "    filtered_rate_map_column=pd.DataFrame(intermediate_array, columns=[column]) #converts array to pandas column\n",
    "    filtered_rate_map_df=pd.concat([filtered_rate_map_df, filtered_rate_map_column], axis=1) #concatenates the pandas column\n",
    "    \n",
    "filtered_rate_map_df=filtered_rate_map_df.drop(['Delete'], axis=1) #deletes the initialisation column\n",
    "\n",
    "filtered_rate_map_df"
   ]
  },
  {
   "cell_type": "code",
   "execution_count": null,
   "id": "bbd2d534",
   "metadata": {},
   "outputs": [],
   "source": [
    "#write to file\n",
    "filtered_rate_map_df.to_csv(f'{newpath}/{testName}D1S2_gaussian_filtered_ratemaps.csv', index=True)"
   ]
  },
  {
   "cell_type": "markdown",
   "id": "c11893d7",
   "metadata": {},
   "source": [
    "# From here, session 3"
   ]
  },
  {
   "cell_type": "code",
   "execution_count": null,
   "id": "a21f374d",
   "metadata": {},
   "outputs": [],
   "source": [
    "#read in the combined Ca imaging and behavioural data for one session, delete intermdiate data, rename speed column\n",
    "\n",
    "interpolated_data_for_session=pd.read_csv(os.path.join(path, Ca_data3))\n",
    "interpolated_data_for_session=interpolated_data_for_session.drop(['Unnamed: 0','Interpolated speed', 'x-velocity','y-velocity'], axis=1)\n",
    "interpolated_data_for_session=interpolated_data_for_session.rename({'Calculated speed': 'Speed'}, axis=1)\n",
    "interpolated_data_for_session"
   ]
  },
  {
   "cell_type": "code",
   "execution_count": null,
   "id": "0fffd361",
   "metadata": {},
   "outputs": [],
   "source": [
    "#prune data, is pruning variable is set\n",
    "if pruning ==1:\n",
    "    interpolated_data_for_session=prune(interpolated_data_for_session)"
   ]
  },
  {
   "cell_type": "code",
   "execution_count": null,
   "id": "cd2ed6e3",
   "metadata": {},
   "outputs": [],
   "source": [
    "N_cells=len(interpolated_data_for_session.columns)-5\n",
    "N_cells"
   ]
  },
  {
   "cell_type": "code",
   "execution_count": null,
   "id": "bb5e18f3",
   "metadata": {},
   "outputs": [],
   "source": [
    "#calculate the overall occupancy per bin\n",
    "occupancy_time = pd.DataFrame(np.bincount(interpolated_data_for_session['Grid no.'], minlength = 257),columns = ['Freq visit'] )\n",
    "occupancy_time['Duration'] = occupancy_time*Delta_time\n",
    "occupancy_time=occupancy_time.drop([0])\n",
    "occupancy_time=occupancy_time.drop(['Freq visit'], axis=1)\n",
    "total_time = occupancy_time['Duration'].sum()\n",
    "bin_probability = occupancy_time['Duration'].div(total_time)\n",
    "\n",
    "occupancy_time"
   ]
  },
  {
   "cell_type": "code",
   "execution_count": null,
   "id": "73695830",
   "metadata": {},
   "outputs": [],
   "source": [
    "#calculate activity map \n",
    "cell_activations_per_bin=activity_map(interpolated_data_for_session)\n",
    "cell_activations_per_bin"
   ]
  },
  {
   "cell_type": "code",
   "execution_count": null,
   "id": "c05fca8b",
   "metadata": {},
   "outputs": [],
   "source": [
    "#zero rows with occupancy numbers less than threshold\n",
    "n=0\n",
    "limit=len(cell_activations_per_bin.index)\n",
    "\n",
    "for i in range (0, limit):\n",
    "    if occupancy_time.iloc[i,0]<threshold_time:\n",
    "        n=n+1\n",
    "        for j in range (0, N_cells):\n",
    "            cell_activations_per_bin.iloc[i,j]=0\n",
    "\n",
    "print(n)"
   ]
  },
  {
   "cell_type": "code",
   "execution_count": null,
   "id": "fa3f208a",
   "metadata": {},
   "outputs": [],
   "source": [
    "#calulate rate map by dividing activity map by occupancy time\n",
    "rate_maps = cell_activations_per_bin.div(occupancy_time['Duration'], axis=0).fillna(0)\n",
    "rate_maps"
   ]
  },
  {
   "cell_type": "code",
   "execution_count": null,
   "id": "fdf65f72",
   "metadata": {},
   "outputs": [],
   "source": [
    "#write to file\n",
    "rate_maps.to_csv(f'{newpath}/{testName}D2S1_ratemaps.csv', index=True)"
   ]
  },
  {
   "cell_type": "code",
   "execution_count": null,
   "id": "da5131d2",
   "metadata": {},
   "outputs": [],
   "source": [
    "#Applies a gaussian filter to the rate map\n",
    "\n",
    "#initialises the dataframe for the filtered ratemaps \n",
    "filtered_rate_map_df=pd.DataFrame(np.random.randint(0,256,size=(256, 1)), columns=['Delete'])\n",
    "\n",
    "#initialises the numpy array for individual ratemaps \n",
    "cell_rate_map=np.zeros((Gridcells_x,Gridcells_y))\n",
    "\n",
    "#Gaussian filters every column\n",
    "for column in rate_maps:\n",
    "    #the next two for loops convert the pandas column into a N by N numpy array of teh ratemap\n",
    "    for i in range(Gridcells_x):\n",
    "        for j in range(Gridcells_y):\n",
    "            index=i+16*j+1\n",
    "            cell_rate_map[j,i]=rate_maps.at[index,column]\n",
    "    filtered_rate_map=gaussian_filter(cell_rate_map, sigma=Std_dev) #applies Gaussian filter to the rate map\n",
    "    intermediate_array=filtered_rate_map.flatten() #flattens array\n",
    "    filtered_rate_map_column=pd.DataFrame(intermediate_array, columns=[column]) #converts array to pandas column\n",
    "    filtered_rate_map_df=pd.concat([filtered_rate_map_df, filtered_rate_map_column], axis=1) #concatenates the pandas column\n",
    "    \n",
    "filtered_rate_map_df=filtered_rate_map_df.drop(['Delete'], axis=1) #deletes the initialisation column\n",
    "\n",
    "filtered_rate_map_df"
   ]
  },
  {
   "cell_type": "code",
   "execution_count": null,
   "id": "1414a801",
   "metadata": {},
   "outputs": [],
   "source": [
    "#write to file\n",
    "filtered_rate_map_df.to_csv(f'{newpath}/{testName}D2S1_gaussian_filtered_ratemaps.csv', index=True)"
   ]
  },
  {
   "cell_type": "markdown",
   "id": "8ae54ddc",
   "metadata": {},
   "source": [
    "# From here, session 4"
   ]
  },
  {
   "cell_type": "code",
   "execution_count": null,
   "id": "773c6f8a",
   "metadata": {},
   "outputs": [],
   "source": [
    "#read in the combined Ca imaging and behavioural data for one session, delete intermdiate data, rename speed column\n",
    "\n",
    "interpolated_data_for_session=pd.read_csv(os.path.join(path, Ca_data4))\n",
    "interpolated_data_for_session=interpolated_data_for_session.drop(['Unnamed: 0','Interpolated speed', 'x-velocity','y-velocity'], axis=1)\n",
    "interpolated_data_for_session=interpolated_data_for_session.rename({'Calculated speed': 'Speed'}, axis=1)\n",
    "interpolated_data_for_session"
   ]
  },
  {
   "cell_type": "code",
   "execution_count": null,
   "id": "e2966d5b",
   "metadata": {},
   "outputs": [],
   "source": [
    "#prune data, is pruning variable is set\n",
    "if pruning ==1:\n",
    "    interpolated_data_for_session=prune(interpolated_data_for_session)"
   ]
  },
  {
   "cell_type": "code",
   "execution_count": null,
   "id": "9159f3ba",
   "metadata": {},
   "outputs": [],
   "source": [
    "N_cells=len(interpolated_data_for_session.columns)-5\n",
    "N_cells"
   ]
  },
  {
   "cell_type": "code",
   "execution_count": null,
   "id": "8ffcf77d",
   "metadata": {},
   "outputs": [],
   "source": [
    "#calculate the overall occupancy per bin\n",
    "occupancy_time = pd.DataFrame(np.bincount(interpolated_data_for_session['Grid no.'], minlength = 257),columns = ['Freq visit'] )\n",
    "occupancy_time['Duration'] = occupancy_time*Delta_time\n",
    "occupancy_time=occupancy_time.drop([0])\n",
    "occupancy_time=occupancy_time.drop(['Freq visit'], axis=1)\n",
    "total_time = occupancy_time['Duration'].sum()\n",
    "bin_probability = occupancy_time['Duration'].div(total_time)\n",
    "\n",
    "occupancy_time"
   ]
  },
  {
   "cell_type": "code",
   "execution_count": null,
   "id": "d89bde87",
   "metadata": {},
   "outputs": [],
   "source": [
    "#calculate activity map \n",
    "cell_activations_per_bin=activity_map(interpolated_data_for_session)\n",
    "cell_activations_per_bin"
   ]
  },
  {
   "cell_type": "code",
   "execution_count": null,
   "id": "4255ae51",
   "metadata": {},
   "outputs": [],
   "source": [
    "#zero rows with occupancy numbers less than threshold\n",
    "n=0\n",
    "limit=len(cell_activations_per_bin.index)\n",
    "\n",
    "for i in range (0, limit):\n",
    "    if occupancy_time.iloc[i,0]<threshold_time:\n",
    "        n=n+1\n",
    "        for j in range (0, N_cells):\n",
    "            cell_activations_per_bin.iloc[i,j]=0\n",
    "\n",
    "print(n)"
   ]
  },
  {
   "cell_type": "code",
   "execution_count": null,
   "id": "fd982d07",
   "metadata": {},
   "outputs": [],
   "source": [
    "#calulate rate map by dividing activity map by occupancy time\n",
    "rate_maps = cell_activations_per_bin.div(occupancy_time['Duration'], axis=0).fillna(0)\n",
    "rate_maps"
   ]
  },
  {
   "cell_type": "code",
   "execution_count": null,
   "id": "873d83d4",
   "metadata": {},
   "outputs": [],
   "source": [
    "#write to file\n",
    "rate_maps.to_csv(f'{newpath}/{testName}D2S2_ratemaps.csv', index=True)"
   ]
  },
  {
   "cell_type": "code",
   "execution_count": null,
   "id": "c0fd3dab",
   "metadata": {},
   "outputs": [],
   "source": [
    "#Applies a gaussian filter to the rate map\n",
    "\n",
    "#initialises the dataframe for the filtered ratemaps \n",
    "filtered_rate_map_df=pd.DataFrame(np.random.randint(0,256,size=(256, 1)), columns=['Delete'])\n",
    "\n",
    "#initialises the numpy array for individual ratemaps \n",
    "cell_rate_map=np.zeros((Gridcells_x,Gridcells_y))\n",
    "\n",
    "#Gaussian filters every column\n",
    "for column in rate_maps:\n",
    "    #the next two for loops convert the pandas column into a N by N numpy array of teh ratemap\n",
    "    for i in range(Gridcells_x):\n",
    "        for j in range(Gridcells_y):\n",
    "            index=i+16*j+1\n",
    "            cell_rate_map[j,i]=rate_maps.at[index,column]\n",
    "    filtered_rate_map=gaussian_filter(cell_rate_map, sigma=Std_dev) #applies Gaussian filter to the rate map\n",
    "    intermediate_array=filtered_rate_map.flatten() #flattens array\n",
    "    filtered_rate_map_column=pd.DataFrame(intermediate_array, columns=[column]) #converts array to pandas column\n",
    "    filtered_rate_map_df=pd.concat([filtered_rate_map_df, filtered_rate_map_column], axis=1) #concatenates the pandas column\n",
    "    \n",
    "filtered_rate_map_df=filtered_rate_map_df.drop(['Delete'], axis=1) #deletes the initialisation column\n",
    "\n",
    "filtered_rate_map_df"
   ]
  },
  {
   "cell_type": "code",
   "execution_count": null,
   "id": "315db6ef",
   "metadata": {},
   "outputs": [],
   "source": [
    "#write to file\n",
    "filtered_rate_map_df.to_csv(f'{newpath}/{testName}D2S2_gaussian_filtered_ratemaps.csv', index=True)"
   ]
  }
 ],
 "metadata": {
  "kernelspec": {
   "display_name": "Python 3 (ipykernel)",
   "language": "python",
   "name": "python3"
  },
  "language_info": {
   "codemirror_mode": {
    "name": "ipython",
    "version": 3
   },
   "file_extension": ".py",
   "mimetype": "text/x-python",
   "name": "python",
   "nbconvert_exporter": "python",
   "pygments_lexer": "ipython3",
   "version": "3.9.7"
  }
 },
 "nbformat": 4,
 "nbformat_minor": 5
}
