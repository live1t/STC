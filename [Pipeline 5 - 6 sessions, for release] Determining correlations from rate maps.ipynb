{
 "cells": [
  {
   "cell_type": "code",
   "execution_count": null,
   "id": "56c3a670",
   "metadata": {},
   "outputs": [],
   "source": [
    "#This program calculates the correlations beween sessions"
   ]
  },
  {
   "cell_type": "code",
   "execution_count": null,
   "id": "67291616",
   "metadata": {},
   "outputs": [],
   "source": [
    "#importing libraries\n",
    "import pandas as pd\n",
    "import numpy as np\n",
    "import os\n",
    "import math\n",
    "import matplotlib.pyplot as plt"
   ]
  },
  {
   "cell_type": "code",
   "execution_count": null,
   "id": "4387ca91",
   "metadata": {},
   "outputs": [],
   "source": [
    "#define variables and file locations\n",
    "\n",
    "#Timestep size\n",
    "Delta_time=0.049962\n",
    "\n",
    "#define number of cells detected (ignore!)\n",
    "N_cells=700\n",
    "\n",
    "#define number of bins/gridcells\n",
    "Gridcells_x=16\n",
    "Gridcells_y=16\n",
    "N_bins=Gridcells_x*Gridcells_y\n",
    "\n",
    "\n",
    "#this is the location of the csv file of the combined Ca imaging and filtered activity maps for the mouse\n",
    "path= r'/Users/insert_file_path_here'\n",
    "Filtered_activity_session_1='session1_Gaussian_filtered_ratemap_filename.csv'\n",
    "Filtered_activity_session_2='session2_Gaussian_filtered_ratemap_filename.csv'\n",
    "Filtered_activity_session_3='session3_Gaussian_filtered_ratemap_filename.csv'\n",
    "Filtered_activity_session_4='session4_Gaussian_filtered_ratemap_filename.csv'\n",
    "Filtered_activity_session_5='session5_Gaussian_filtered_ratemap_filename.csv'\n",
    "Filtered_activity_session_6='session6_Gaussian_filtered_ratemap_filename.csv'\n",
    "\n",
    "#ouput file name\n",
    "output_file='output_filename.csv'\n"
   ]
  },
  {
   "cell_type": "code",
   "execution_count": null,
   "id": "a3baf05b",
   "metadata": {},
   "outputs": [],
   "source": [
    "#read in the Gaussian filtered ratemaps\n",
    "\n",
    "Activity_session_one=pd.read_csv(os.path.join(path, Filtered_activity_session_1)).drop(['Unnamed: 0'],axis=1)\n",
    "Activity_session_two=pd.read_csv(os.path.join(path, Filtered_activity_session_2)).drop(['Unnamed: 0'],axis=1)\n",
    "Activity_session_three=pd.read_csv(os.path.join(path, Filtered_activity_session_3)).drop(['Unnamed: 0'],axis=1)\n",
    "Activity_session_four=pd.read_csv(os.path.join(path, Filtered_activity_session_4)).drop(['Unnamed: 0'],axis=1)\n",
    "Activity_session_five=pd.read_csv(os.path.join(path, Filtered_activity_session_5)).drop(['Unnamed: 0'],axis=1)\n",
    "Activity_session_six=pd.read_csv(os.path.join(path, Filtered_activity_session_6)).drop(['Unnamed: 0'],axis=1)"
   ]
  },
  {
   "cell_type": "code",
   "execution_count": null,
   "id": "20c88ca6",
   "metadata": {},
   "outputs": [],
   "source": [
    "#check read in\n",
    "Activity_session_two"
   ]
  },
  {
   "cell_type": "code",
   "execution_count": null,
   "id": "e6585f39",
   "metadata": {},
   "outputs": [],
   "source": [
    "#determine total number of cells\n",
    "N_cells=len(Activity_session_one.columns)\n",
    "N_cells"
   ]
  },
  {
   "cell_type": "code",
   "execution_count": null,
   "id": "5b3d2997",
   "metadata": {},
   "outputs": [],
   "source": [
    "#calculate the correlations between session 1 and 3/5, and session 2 and 4/6 for each column  \n",
    "\n",
    "#create numpy array for results and initialise arrray index\n",
    "correlations_array=np.zeros((4,N_cells))\n",
    "j=0\n",
    "\n",
    "#calculate correlations\n",
    "for column in Activity_session_one:\n",
    "    \n",
    "    #calculate correlations\n",
    "    corr_1_to_3=Activity_session_one[column].corr(Activity_session_three[column])\n",
    "    corr_2_to_4=Activity_session_two[column].corr(Activity_session_four[column])\n",
    "    corr_1_to_5=Activity_session_one[column].corr(Activity_session_five[column])\n",
    "    corr_2_to_6=Activity_session_two[column].corr(Activity_session_six[column])\n",
    "    \n",
    "    #write to array\n",
    "    correlations_array[0,j]=corr_1_to_3\n",
    "    correlations_array[1,j]=corr_2_to_4\n",
    "    correlations_array[2,j]=corr_1_to_5\n",
    "    correlations_array[3,j]=corr_2_to_6\n",
    "    \n",
    "    #update array index\n",
    "    j=j+1\n",
    "\n",
    "    \n",
    "#convert numpy array to pandas\n",
    "correlations=pd.DataFrame(correlations_array, index=['1-3 Correlation', '2-4 Correlation', '1-5 Correlation',  '2-6 Correlation']).fillna(0)\n",
    "titles=Activity_session_one.columns  #rename columns\n",
    "correlations.columns=[titles] #rename columns\n",
    "correlations"
   ]
  },
  {
   "cell_type": "code",
   "execution_count": null,
   "id": "838410c6",
   "metadata": {},
   "outputs": [],
   "source": [
    "#write correlatons to file\n",
    "correlations.to_csv(os.path.join(path, output_file))"
   ]
  },
  {
   "cell_type": "code",
   "execution_count": null,
   "id": "aebfb36a",
   "metadata": {},
   "outputs": [],
   "source": [
    "#plot filtered data for a particular cell\n",
    "\n",
    "#define cell to be plotted\n",
    "cell=' C000'\n",
    "\n",
    "#initialise numpy array for the rate map data\n",
    "plotting_rate_map_one=np.zeros((Gridcells_x,Gridcells_y))\n",
    "plotting_rate_map_two=np.zeros((Gridcells_x,Gridcells_y))\n",
    "plotting_rate_map_three=np.zeros((Gridcells_x,Gridcells_y))\n",
    "plotting_rate_map_four=np.zeros((Gridcells_x,Gridcells_y))\n",
    "\n",
    "#convert dataframe column of the filtered rate map to numpy array\n",
    "for i in range(Gridcells_x):\n",
    "        for j in range(Gridcells_y):\n",
    "            index=i+16*j\n",
    "            plotting_rate_map_one[j,i]=Activity_session_one.at[index,cell]\n",
    "            plotting_rate_map_two[j,i]=Activity_session_two.at[index,cell]\n",
    "            plotting_rate_map_three[j,i]=Activity_session_three.at[index,cell]\n",
    "            plotting_rate_map_four[j,i]=Activity_session_four.at[index,cell]\n",
    "        \n",
    "#plot as a heatmap            \n",
    "plt.imshow(plotting_rate_map_one  , cmap='jet', interpolation='nearest')\n",
    "plt.show()"
   ]
  },
  {
   "cell_type": "code",
   "execution_count": null,
   "id": "d7a16146",
   "metadata": {},
   "outputs": [],
   "source": [
    "#plot as a heatmap            \n",
    "plt.imshow(plotting_rate_map_three  , cmap='jet', interpolation='nearest')\n",
    "plt.show()"
   ]
  },
  {
   "cell_type": "code",
   "execution_count": null,
   "id": "3ac81a72",
   "metadata": {},
   "outputs": [],
   "source": [
    "#plot as a heatmap            \n",
    "plt.imshow(plotting_rate_map_two  , cmap='jet', interpolation='nearest')\n",
    "plt.show()"
   ]
  },
  {
   "cell_type": "code",
   "execution_count": null,
   "id": "7af96a97",
   "metadata": {},
   "outputs": [],
   "source": [
    "#plot as a heatmap            \n",
    "plt.imshow(plotting_rate_map_four  , cmap='jet', interpolation='nearest')\n",
    "plt.show()"
   ]
  },
  {
   "cell_type": "code",
   "execution_count": null,
   "id": "9a1feb84",
   "metadata": {},
   "outputs": [],
   "source": []
  }
 ],
 "metadata": {
  "kernelspec": {
   "display_name": "Python 3 (ipykernel)",
   "language": "python",
   "name": "python3"
  },
  "language_info": {
   "codemirror_mode": {
    "name": "ipython",
    "version": 3
   },
   "file_extension": ".py",
   "mimetype": "text/x-python",
   "name": "python",
   "nbconvert_exporter": "python",
   "pygments_lexer": "ipython3",
   "version": "3.9.7"
  }
 },
 "nbformat": 4,
 "nbformat_minor": 5
}
